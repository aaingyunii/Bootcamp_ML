{
 "cells": [
  {
   "cell_type": "markdown",
   "id": "0e224a40",
   "metadata": {},
   "source": [
    "# 평가 지표\n",
    "## 분류모델 평가 지표\n",
    "1. 정확도 (Accuracy)\n",
    "1. 정밀도 (Precision)\n",
    "1. 재현률 (Recall)\n",
    "1. F1점수 (F1 Score)\n",
    "1. PR Curve, AP score\n",
    "1. ROC Curve, AUC score\n",
    "\n",
    "## 회귀모델 평가 지표\n",
    "1. MSE (Mean Squared Error)\n",
    "1. RMSE (Root Mean Squared Error)\n",
    "1. $R^2$ (결정계수)"
   ]
  },
  {
   "cell_type": "markdown",
   "id": "176e17c3",
   "metadata": {},
   "source": [
    "# TODO 머신 모델을 이용해 학습\n",
    "- 데이터는 `MNIST` 데이터셋 사용 위에서 분리한 X,y 값\n",
    "    - `y = np.where(y==9, 1, 0)`\n",
    "- DecisionTreeClassifier 사용 (max_depth=3, random_state=0)\n",
    "    - 변수 `tree`에 할당\n",
    "- RandomForestClassifier 사용 (n_estimators=100, max_depth=3, random_state=0)\n",
    "    - 변수 `rfc`에 할당\n",
    "- 모델생성\n",
    "- 학습(train)\n",
    "- 평가(train/test)\n",
    "    - accuracy, recall, precision, f1 score, confusion_matrix 확인"
   ]
  },
  {
   "cell_type": "code",
   "execution_count": 2,
   "id": "b92b0407",
   "metadata": {},
   "outputs": [],
   "source": [
    "from sklearn.ensemble import RandomForestClassifier\n",
    "from sklearn.tree import DecisionTreeClassifier\n",
    "import numpy as np\n",
    "import matplotlib.pyplot as plt\n",
    "from sklearn.model_selection import train_test_split\n",
    "from sklearn.metrics import (confusion_matrix, \n",
    "                             ConfusionMatrixDisplay, \n",
    "                             recall_score, \n",
    "                             accuracy_score, \n",
    "                             precision_score, \n",
    "                             f1_score)"
   ]
  },
  {
   "cell_type": "code",
   "execution_count": 3,
   "id": "a9aca5cf",
   "metadata": {},
   "outputs": [
    {
     "data": {
      "text/plain": [
       "((1347, 64), (450, 64))"
      ]
     },
     "execution_count": 3,
     "metadata": {},
     "output_type": "execute_result"
    }
   ],
   "source": [
    "# 데이터 로드 및 분리\n",
    "from sklearn.datasets import load_digits\n",
    "mnist = load_digits()\n",
    "\n",
    "X, y = mnist['data'], mnist['target']\n",
    "\n",
    "# 9 값을 찾는 문제로, 9가 아닌 나머지를 0으로, 9를 1로 바꿔\n",
    "# 이진 분류 문제로 변환\n",
    "y = np.where(y==9, 1, 0)\n",
    "\n",
    "X_train, X_test, y_train, y_test = train_test_split(X, y, \n",
    "                                                    stratify=y, \n",
    "                                                    test_size=0.25, \n",
    "                                                    random_state=0\n",
    "                                                   )\n",
    "X_train.shape, X_test.shape"
   ]
  },
  {
   "cell_type": "code",
   "execution_count": null,
   "id": "f72307f1",
   "metadata": {},
   "outputs": [],
   "source": []
  },
  {
   "cell_type": "code",
   "execution_count": null,
   "id": "b632656c",
   "metadata": {},
   "outputs": [],
   "source": []
  },
  {
   "cell_type": "code",
   "execution_count": null,
   "id": "f1a54f09",
   "metadata": {},
   "outputs": [],
   "source": []
  },
  {
   "cell_type": "code",
   "execution_count": null,
   "id": "0dd413f5",
   "metadata": {},
   "outputs": [],
   "source": []
  },
  {
   "cell_type": "code",
   "execution_count": null,
   "id": "6f56ce4c",
   "metadata": {},
   "outputs": [],
   "source": []
  },
  {
   "cell_type": "code",
   "execution_count": null,
   "id": "a27556cf",
   "metadata": {},
   "outputs": [],
   "source": []
  },
  {
   "cell_type": "markdown",
   "id": "5c247146",
   "metadata": {},
   "source": [
    "## `%%writefile 파일명.py` : \n",
    "- 해당 셀의 내용을 \".py\" 파일로 저장\n",
    "\n",
    "\n",
    "## `%load 파일명.py` : \n",
    "- 해당 셀에 \"파일명.py\"의 내용을 옮긴다."
   ]
  },
  {
   "cell_type": "code",
   "execution_count": null,
   "id": "9da8f446",
   "metadata": {},
   "outputs": [],
   "source": []
  },
  {
   "cell_type": "code",
   "execution_count": null,
   "id": "4512b9b6",
   "metadata": {},
   "outputs": [],
   "source": []
  },
  {
   "cell_type": "code",
   "execution_count": null,
   "id": "d87418fd",
   "metadata": {},
   "outputs": [],
   "source": []
  },
  {
   "cell_type": "code",
   "execution_count": null,
   "id": "eaa76d00",
   "metadata": {},
   "outputs": [],
   "source": []
  },
  {
   "cell_type": "code",
   "execution_count": null,
   "id": "08662100",
   "metadata": {},
   "outputs": [],
   "source": []
  },
  {
   "cell_type": "code",
   "execution_count": null,
   "id": "e1b839c0",
   "metadata": {},
   "outputs": [],
   "source": []
  },
  {
   "cell_type": "markdown",
   "id": "3ef0318b",
   "metadata": {},
   "source": [
    "# TODO\n",
    "- breast_cancer data 모델링\n",
    "1. breast cancer data 로딩 및 \n",
    "1. train/test set으로 분리\n",
    "1. 모델링 (DecisionTreeClassifier(max_depth=3), RandomForestClassifier(max_depth=2, n_estimators=200)\n",
    "1. 평가 (Test set)\n",
    "    - 평가지표\n",
    "        - accuracy, recall, precision, f1 score, confusion matrix\n",
    "        - PR curve 그리고 AP 점수 확인\n",
    "        - ROC curve 그리고 AUC 점수확인\n",
    "        - random_state=0"
   ]
  },
  {
   "cell_type": "code",
   "execution_count": 4,
   "id": "d5f48a11",
   "metadata": {},
   "outputs": [],
   "source": [
    "# import \n",
    "from sklearn.datasets import load_breast_cancer\n",
    "from sklearn.model_selection import train_test_split\n",
    "from sklearn.tree import DecisionTreeClassifier\n",
    "from sklearn.ensemble import RandomForestClassifier\n",
    "from sklearn.metrics import (accuracy_score, recall_score, precision_score, f1_score,\n",
    "                             confusion_matrix, ConfusionMatrixDisplay,\n",
    "                             precision_recall_curve, PrecisionRecallDisplay, average_precision_score,\n",
    "                             roc_curve, RocCurveDisplay, roc_auc_score)\n",
    "import matplotlib.pyplot as plt\n",
    "import numpy as np\n",
    "import pandas as pd"
   ]
  },
  {
   "cell_type": "code",
   "execution_count": 5,
   "id": "d74bedd2",
   "metadata": {},
   "outputs": [
    {
     "data": {
      "text/plain": [
       "((455, 30), (114, 30))"
      ]
     },
     "execution_count": 5,
     "metadata": {},
     "output_type": "execute_result"
    }
   ],
   "source": [
    "# 데이터 로딩\n",
    "X, y = load_breast_cancer(return_X_y=True)\n",
    "\n",
    "# Train/Test set 분리\n",
    "X_train, X_test, y_train, y_test = train_test_split(X, y, test_size=0.2, \n",
    "                                                   stratify=y, random_state=0)\n",
    "X_train.shape, X_test.shape"
   ]
  },
  {
   "cell_type": "code",
   "execution_count": null,
   "id": "009dcdc2",
   "metadata": {},
   "outputs": [],
   "source": []
  },
  {
   "cell_type": "code",
   "execution_count": null,
   "id": "7e551067",
   "metadata": {},
   "outputs": [],
   "source": []
  },
  {
   "cell_type": "code",
   "execution_count": null,
   "id": "b2b03ffd",
   "metadata": {},
   "outputs": [],
   "source": []
  },
  {
   "cell_type": "code",
   "execution_count": null,
   "id": "c73fee90",
   "metadata": {},
   "outputs": [],
   "source": []
  },
  {
   "cell_type": "code",
   "execution_count": null,
   "id": "43b76c58",
   "metadata": {},
   "outputs": [],
   "source": []
  },
  {
   "cell_type": "code",
   "execution_count": null,
   "id": "306f7303",
   "metadata": {},
   "outputs": [],
   "source": []
  },
  {
   "cell_type": "code",
   "execution_count": null,
   "id": "059f8ce6",
   "metadata": {},
   "outputs": [],
   "source": []
  },
  {
   "cell_type": "code",
   "execution_count": null,
   "id": "9aff46db",
   "metadata": {},
   "outputs": [],
   "source": []
  },
  {
   "cell_type": "code",
   "execution_count": null,
   "id": "37d20b39",
   "metadata": {},
   "outputs": [],
   "source": []
  },
  {
   "cell_type": "code",
   "execution_count": null,
   "id": "7481bf3f",
   "metadata": {},
   "outputs": [],
   "source": []
  },
  {
   "cell_type": "code",
   "execution_count": null,
   "id": "fd8c34df",
   "metadata": {},
   "outputs": [],
   "source": []
  },
  {
   "cell_type": "markdown",
   "id": "29d03104",
   "metadata": {},
   "source": [
    "## 예제\n",
    "\n",
    "> #### Dataset 생성 함수\n",
    "> - make_xxxxx() 함수\n",
    ">     - 머신러닝 학습을 위한 dummy dataset 구현 함수\n",
    ">     - 필요한 설정을 직접하여 테스트할 수 있는 데이터셋을 생성해준다.\n",
    "> - make_regression(): 회귀 문제를 위한 dummy dataset 생성\n",
    "> - make_classification(): 분류 문제를 위한 dummy dataset 생성\n",
    "\n",
    "> #### Noise란 \n",
    ">  같은 Feature를 가진 데이터포인트가 다른 label을 가지는 이유를 Noise(노이즈)라고 한다. 단 그 이유는 현재 상태에선 모른다. 예를 들어 나이란 Feature가 있고 구매량이란 target이 있을때 같은 나이인데 구매량이 다른 경우 그 이유를 우리는 알 수 없다. 그 차이를 만드는 나이 이외의 Feature가 있는데 그것이 수집이 되지 않은 것이다.  그래서 데이터 수집하고 전처리 할 때 그 이유가 되는 Feature를 찾아야 한다. 찾으면 성능이 올라가는 것이고 못찾으면 모르는 이유가 되어 모델 성능이 떨어진다. "
   ]
  },
  {
   "cell_type": "code",
   "execution_count": null,
   "id": "8da8546f",
   "metadata": {},
   "outputs": [],
   "source": []
  },
  {
   "cell_type": "code",
   "execution_count": null,
   "id": "ec1491b4",
   "metadata": {},
   "outputs": [],
   "source": []
  },
  {
   "cell_type": "code",
   "execution_count": null,
   "id": "d12a86b9",
   "metadata": {},
   "outputs": [],
   "source": []
  },
  {
   "cell_type": "code",
   "execution_count": null,
   "id": "69e4bb3c",
   "metadata": {},
   "outputs": [],
   "source": []
  },
  {
   "cell_type": "code",
   "execution_count": null,
   "id": "a029c060",
   "metadata": {},
   "outputs": [],
   "source": []
  },
  {
   "cell_type": "code",
   "execution_count": null,
   "id": "19f674a0",
   "metadata": {},
   "outputs": [],
   "source": []
  },
  {
   "cell_type": "markdown",
   "id": "ecaf3069",
   "metadata": {},
   "source": [
    "# Overfitting, Underfitting, Generalization"
   ]
  },
  {
   "cell_type": "code",
   "execution_count": null,
   "id": "358d10d1",
   "metadata": {},
   "outputs": [],
   "source": []
  },
  {
   "cell_type": "code",
   "execution_count": null,
   "id": "672abaf0",
   "metadata": {},
   "outputs": [],
   "source": []
  },
  {
   "cell_type": "code",
   "execution_count": null,
   "id": "d3f3b828",
   "metadata": {},
   "outputs": [],
   "source": []
  },
  {
   "cell_type": "code",
   "execution_count": null,
   "id": "1b311933",
   "metadata": {},
   "outputs": [],
   "source": []
  },
  {
   "cell_type": "code",
   "execution_count": null,
   "id": "6c7a05e3",
   "metadata": {},
   "outputs": [],
   "source": []
  },
  {
   "cell_type": "code",
   "execution_count": null,
   "id": "43214a29",
   "metadata": {},
   "outputs": [],
   "source": []
  },
  {
   "cell_type": "code",
   "execution_count": null,
   "id": "3e5fcedc",
   "metadata": {},
   "outputs": [],
   "source": []
  },
  {
   "cell_type": "code",
   "execution_count": null,
   "id": "d4175e0e",
   "metadata": {},
   "outputs": [],
   "source": []
  }
 ],
 "metadata": {
  "kernelspec": {
   "display_name": "Python 3 (ipykernel)",
   "language": "python",
   "name": "python3"
  },
  "language_info": {
   "codemirror_mode": {
    "name": "ipython",
    "version": 3
   },
   "file_extension": ".py",
   "mimetype": "text/x-python",
   "name": "python",
   "nbconvert_exporter": "python",
   "pygments_lexer": "ipython3",
   "version": "3.10.11"
  }
 },
 "nbformat": 4,
 "nbformat_minor": 5
}
