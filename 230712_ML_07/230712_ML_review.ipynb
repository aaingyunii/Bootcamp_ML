{
 "cells": [
  {
   "cell_type": "markdown",
   "id": "a64c3b4b",
   "metadata": {},
   "source": [
    "# 선형 회귀"
   ]
  },
  {
   "cell_type": "markdown",
   "id": "d60f96c8",
   "metadata": {},
   "source": [
    "## 필요한 수학적 지식.\n",
    "\n",
    "### ✅ 벡터 내적 (dot product) 👍\n",
    "- 두 열 벡터의 내적을 구하려고 할 경우 **둘 중 하나의 벡터를 transpose 시켜 행 벡터의 형태로 바꾼 후**, 나머지 벡터와 벡터곱을 시키는 것\n",
    "\n",
    "![image.png](../images/dot_product.png)\n",
    "![image.png](../images/dot_product2.png)\n",
    "\n",
    "\n",
    "### ➕ 행렬 곱셈 ❌\n",
    "- **두 개의 행렬에서 한 개의 행렬을 만들어내는 이항연산**이다. 이 때 <u>첫째 행렬의 열 개수와 둘째 행렬의 행 개수가 동일해야한다.</u> <br>곱셈의 결과 새롭게 만들어진 행렬은 `행렬곱` 이라 하며, 첫째 행렬의 행 개수와 둘째 행렬의 열 개수를 가진다.\n",
    "\n",
    "![image.png](../images/matrix_product.png)\n",
    "![image.png](../images/matrix_product2.png)"
   ]
  },
  {
   "cell_type": "code",
   "execution_count": 3,
   "id": "10532e6c",
   "metadata": {},
   "outputs": [
    {
     "name": "stdout",
     "output_type": "stream",
     "text": [
      "Overwriting dataset.py\n"
     ]
    }
   ],
   "source": [
    "%%writefile dataset.py\n",
    "\n",
    "import pandas as pd\n",
    "from sklearn.model_selection import train_test_split\n",
    "from sklearn.preprocessing import LabelEncoder, StandardScaler\n",
    "from sklearn.datasets import load_breast_cancer\n",
    "\n",
    "\n",
    "def get_breast_cancer_dataset(test_size=0.25, scaling=False):\n",
    "    \"\"\"\n",
    "    [param]\n",
    "        scaling: bool - Feature scaling할지 여부\n",
    "    [return]\n",
    "        list: [(X_train, X_test, y_train, y_test), feature_names]\n",
    "    \"\"\"\n",
    "    data = load_breast_cancer()\n",
    "    X_train, X_test, y_train, y_test = train_test_split(data['data'], \n",
    "                                                        data['target'], \n",
    "                                                        test_size=test_size, \n",
    "                                                        stratify=data['target'], \n",
    "                                                        random_state=0)\n",
    "    if scaling: # True: feature scaling을 진행\n",
    "        scaler = StandardScaler()\n",
    "        X_train = scaler.fit_transform(X_train)\n",
    "        X_test = scaler.transform(X_test)\n",
    "    \n",
    "    return [(X_train, X_test, y_train, y_test), data['feature_names']]\n",
    "\n",
    "\n",
    "def get_wine_dataset(path='../data/wine.csv', test_size=0.25):\n",
    "    df = pd.read_csv(path)\n",
    "    X = df.drop(columns='color')\n",
    "    y = df['color']\n",
    "    le = LabelEncoder()\n",
    "    le.fit(['A', 'B', 'C'])\n",
    "    X['quality'] = le.transform(X[\"quality\"])\n",
    "    \n",
    "    return train_test_split(X, y, test_size=test_size, stratify=y, random_state=0)\n",
    "    \n",
    "def get_boston_dataset(path=\"../data/boston_hosing.csv\", test_size=0.25):\n",
    "    df = pd.read_csv(path)\n",
    "    X = df.drop(columns='MEDV')\n",
    "    y = df['MEDV']\n",
    "    dataset = train_test_split(X, y, test_size=test_size, random_state=0)\n",
    "    return dataset\n"
   ]
  },
  {
   "cell_type": "code",
   "execution_count": 11,
   "id": "b5dcf2f0",
   "metadata": {},
   "outputs": [
    {
     "name": "stdout",
     "output_type": "stream",
     "text": [
      "Writing metrics.py\n"
     ]
    }
   ],
   "source": [
    "%%writefile metrics.py\n",
    "\n",
    "import matplotlib.pyplot as plt\n",
    "from sklearn.metrics import (confusion_matrix,\n",
    "                             ConfusionMatrixDisplay,\n",
    "                             recall_score,\n",
    "                             accuracy_score,\n",
    "                             precision_score,\n",
    "                             f1_score,\n",
    "                             average_precision_score,\n",
    "                             PrecisionRecallDisplay,\n",
    "                             precision_recall_curve,\n",
    "                             roc_auc_score,\n",
    "                             RocCurveDisplay,\n",
    "                             roc_curve,\n",
    "                             mean_squared_error,\n",
    "                             mean_absolute_error,\n",
    "                             r2_score,\n",
    ")\n",
    "\n",
    "\n",
    "# confusion matrix 시각화\n",
    "def plot_confusion_matrix(y, pred, title=None):\n",
    "    \"\"\"\n",
    "    confusion matrix 시각화\n",
    "    [parameter]\n",
    "        y: ndarray - 정답\n",
    "        pred: ndarray - 모델 추정한 label\n",
    "        title: str - 그래프의 제목\n",
    "    \"\"\"\n",
    "    cm = confusion_matrix(y,pred)\n",
    "    disp = ConfusionMatrixDisplay(cm)\n",
    "    disp.plot(cmap=\"Greys\")\n",
    "    \n",
    "    if title :\n",
    "        plt.title(title)\n",
    "    plt.show()\n",
    "    \n",
    "    \n",
    "    \n",
    "def plot_roc_curve(y, pos_proba, estimator_name, title=None):\n",
    "    \"\"\"\n",
    "    ROC Curve 시각화 함수\n",
    "    [parameter]\n",
    "        y : ndarray - 정답\n",
    "        pos_proba : ndarray - 모델이 추정한 양성(positive)일 확률\n",
    "        estimator_name : str - 범례(legend)에 나올 모델의 이름.\n",
    "        title : str - subplot의 제목\n",
    "    \"\"\"\n",
    "    auc_score = roc_auc_score(y, pos_proba)\n",
    "    fpr, tpr, _ = roc_curve(y, pos_proba)\n",
    "    RocCurveDisplay(fpr = fpr , tpr=tpr, roc_auc = auc_score,  estimator_name= estimator_name).plot()\n",
    "    if title :\n",
    "        plt.title(title)\n",
    "    plt.show()\n",
    "    \n",
    "\n",
    "    \n",
    "def plot_precision_recall_curve(y, pos_proba, estimator_name, title=None):\n",
    "    \"\"\"\n",
    "    Precision Recall Curve 시각화 함수\n",
    "    [parameter]\n",
    "        y : ndarray - 정답\n",
    "        pos_proba : ndarray - 모델이 추정한 양성(positive)일 확률\n",
    "        estimator_name : str - 범례(legend)에 나올 모델의 이름.\n",
    "        title : str - subplot의 제목\n",
    "    \"\"\"\n",
    "    ap_score = average_precision_score(y,pos_proba)\n",
    "    precision, recall, _ = precision_recall_curve(y, pos_proba)\n",
    "    PrecisionRecallDisplay(precision, recall, average_precision=ap_score, \n",
    "                           estimator_name=estimator_name).plot()\n",
    "    if title :\n",
    "        plt.title(title)\n",
    "    plt.show()\n",
    "    \n",
    "    \n",
    "    \n",
    "\n",
    "def print_metrics_classification(y, pred, pos_proba=None, title = None):\n",
    "    \"\"\"\n",
    "    분류 결과에 대한 평가지표를 출력하는 함수.\n",
    "    출력 내용 : accuracy, recall, precision, f1 score\n",
    "    [parameter]\n",
    "        y: ndarray - 정답\n",
    "        pred: ndarray - 모델 추정한 label\n",
    "        pos_proba : ndarray - 모델이 추정한 양성(positive)일 확률, \n",
    "                                                default: None -ap score, auc score는 출력안한다.\n",
    "        title: str - 그래프의 제목\n",
    "    \"\"\"\n",
    "    if title:\n",
    "        print(f\"================={title}=================\")\n",
    "    print(\"정확도 Accuracy : \", accuracy_score(y, pred))\n",
    "    print(\"재현율 Recall : \", recall_score(y, pred))\n",
    "    print(\"정밀도 Precision : \", precision_score(y, pred))\n",
    "    print(\"F-1 Score : \", f1_score(y, pred))\n",
    "    \n",
    "    if pos_proba is not None:\n",
    "        print(\"Average Precision : \", average_precision_score(y,pos_proba))\n",
    "        print(\"ROC-AUC : \", roc_auc_score(y,pos_proba))\n",
    "\n",
    "        \n",
    "def print_metrics_regression(y, pred, title=None):\n",
    "    \"\"\"\n",
    "    회귀 평가지표를 출력하는 함수\n",
    "    출력 내용 : mse, rmse, mae, r2\n",
    "    [parameter]\n",
    "    y: ndarray - 정답\n",
    "    pred: ndarray - 모델 추정한 label\n",
    "    \"\"\"\n",
    "    if title:\n",
    "        print(f\"================={title}=================\")\n",
    "    print(\"MSE : \", mean_squared_error(y,pred))\n",
    "    print(\"RMSE : \", mean_squared_error(y,pred,squared=False))\n",
    "    print(\"MAE : \", mean_absolute_error(y,pred))\n",
    "    print(\"R2 : \",r2_score(y,pred))\n"
   ]
  },
  {
   "cell_type": "markdown",
   "id": "295cab69",
   "metadata": {},
   "source": [
    "`.coef_` - weight조회: 각 feature들에 곱할 가중치들.<br>\n",
    "`.intercept_` - bias조회: 모든 값이 0일때 출력값"
   ]
  },
  {
   "cell_type": "code",
   "execution_count": 1,
   "id": "18090a86",
   "metadata": {},
   "outputs": [],
   "source": [
    "from dataset import get_boston_dataset\n",
    "X_train, X_test, y_train, y_test = get_boston_dataset()"
   ]
  },
  {
   "cell_type": "code",
   "execution_count": 2,
   "id": "98d50ad9",
   "metadata": {},
   "outputs": [],
   "source": [
    "from sklearn.preprocessing import StandardScaler\n",
    "scaler = StandardScaler()\n",
    "X_train_scaled = scaler.fit_transform(X_train) \n",
    "X_test_scaled = scaler.transform(X_test) "
   ]
  },
  {
   "cell_type": "code",
   "execution_count": 3,
   "id": "8c1dba05",
   "metadata": {},
   "outputs": [
    {
     "data": {
      "text/html": [
       "<style>#sk-container-id-1 {color: black;background-color: white;}#sk-container-id-1 pre{padding: 0;}#sk-container-id-1 div.sk-toggleable {background-color: white;}#sk-container-id-1 label.sk-toggleable__label {cursor: pointer;display: block;width: 100%;margin-bottom: 0;padding: 0.3em;box-sizing: border-box;text-align: center;}#sk-container-id-1 label.sk-toggleable__label-arrow:before {content: \"▸\";float: left;margin-right: 0.25em;color: #696969;}#sk-container-id-1 label.sk-toggleable__label-arrow:hover:before {color: black;}#sk-container-id-1 div.sk-estimator:hover label.sk-toggleable__label-arrow:before {color: black;}#sk-container-id-1 div.sk-toggleable__content {max-height: 0;max-width: 0;overflow: hidden;text-align: left;background-color: #f0f8ff;}#sk-container-id-1 div.sk-toggleable__content pre {margin: 0.2em;color: black;border-radius: 0.25em;background-color: #f0f8ff;}#sk-container-id-1 input.sk-toggleable__control:checked~div.sk-toggleable__content {max-height: 200px;max-width: 100%;overflow: auto;}#sk-container-id-1 input.sk-toggleable__control:checked~label.sk-toggleable__label-arrow:before {content: \"▾\";}#sk-container-id-1 div.sk-estimator input.sk-toggleable__control:checked~label.sk-toggleable__label {background-color: #d4ebff;}#sk-container-id-1 div.sk-label input.sk-toggleable__control:checked~label.sk-toggleable__label {background-color: #d4ebff;}#sk-container-id-1 input.sk-hidden--visually {border: 0;clip: rect(1px 1px 1px 1px);clip: rect(1px, 1px, 1px, 1px);height: 1px;margin: -1px;overflow: hidden;padding: 0;position: absolute;width: 1px;}#sk-container-id-1 div.sk-estimator {font-family: monospace;background-color: #f0f8ff;border: 1px dotted black;border-radius: 0.25em;box-sizing: border-box;margin-bottom: 0.5em;}#sk-container-id-1 div.sk-estimator:hover {background-color: #d4ebff;}#sk-container-id-1 div.sk-parallel-item::after {content: \"\";width: 100%;border-bottom: 1px solid gray;flex-grow: 1;}#sk-container-id-1 div.sk-label:hover label.sk-toggleable__label {background-color: #d4ebff;}#sk-container-id-1 div.sk-serial::before {content: \"\";position: absolute;border-left: 1px solid gray;box-sizing: border-box;top: 0;bottom: 0;left: 50%;z-index: 0;}#sk-container-id-1 div.sk-serial {display: flex;flex-direction: column;align-items: center;background-color: white;padding-right: 0.2em;padding-left: 0.2em;position: relative;}#sk-container-id-1 div.sk-item {position: relative;z-index: 1;}#sk-container-id-1 div.sk-parallel {display: flex;align-items: stretch;justify-content: center;background-color: white;position: relative;}#sk-container-id-1 div.sk-item::before, #sk-container-id-1 div.sk-parallel-item::before {content: \"\";position: absolute;border-left: 1px solid gray;box-sizing: border-box;top: 0;bottom: 0;left: 50%;z-index: -1;}#sk-container-id-1 div.sk-parallel-item {display: flex;flex-direction: column;z-index: 1;position: relative;background-color: white;}#sk-container-id-1 div.sk-parallel-item:first-child::after {align-self: flex-end;width: 50%;}#sk-container-id-1 div.sk-parallel-item:last-child::after {align-self: flex-start;width: 50%;}#sk-container-id-1 div.sk-parallel-item:only-child::after {width: 0;}#sk-container-id-1 div.sk-dashed-wrapped {border: 1px dashed gray;margin: 0 0.4em 0.5em 0.4em;box-sizing: border-box;padding-bottom: 0.4em;background-color: white;}#sk-container-id-1 div.sk-label label {font-family: monospace;font-weight: bold;display: inline-block;line-height: 1.2em;}#sk-container-id-1 div.sk-label-container {text-align: center;}#sk-container-id-1 div.sk-container {/* jupyter's `normalize.less` sets `[hidden] { display: none; }` but bootstrap.min.css set `[hidden] { display: none !important; }` so we also need the `!important` here to be able to override the default hidden behavior on the sphinx rendered scikit-learn.org. See: https://github.com/scikit-learn/scikit-learn/issues/21755 */display: inline-block !important;position: relative;}#sk-container-id-1 div.sk-text-repr-fallback {display: none;}</style><div id=\"sk-container-id-1\" class=\"sk-top-container\"><div class=\"sk-text-repr-fallback\"><pre>LinearRegression()</pre><b>In a Jupyter environment, please rerun this cell to show the HTML representation or trust the notebook. <br />On GitHub, the HTML representation is unable to render, please try loading this page with nbviewer.org.</b></div><div class=\"sk-container\" hidden><div class=\"sk-item\"><div class=\"sk-estimator sk-toggleable\"><input class=\"sk-toggleable__control sk-hidden--visually\" id=\"sk-estimator-id-1\" type=\"checkbox\" checked><label for=\"sk-estimator-id-1\" class=\"sk-toggleable__label sk-toggleable__label-arrow\">LinearRegression</label><div class=\"sk-toggleable__content\"><pre>LinearRegression()</pre></div></div></div></div></div>"
      ],
      "text/plain": [
       "LinearRegression()"
      ]
     },
     "execution_count": 3,
     "metadata": {},
     "output_type": "execute_result"
    }
   ],
   "source": [
    "from sklearn.linear_model import LinearRegression\n",
    "lr = LinearRegression()\n",
    "lr.fit(X_train_scaled, y_train)"
   ]
  },
  {
   "cell_type": "code",
   "execution_count": 5,
   "id": "31c5d137",
   "metadata": {},
   "outputs": [
    {
     "data": {
      "text/plain": [
       "array([-0.97100092,  1.04667838, -0.04044753,  0.59408776, -1.80876877,\n",
       "        2.60991991, -0.19823317, -3.00216551,  2.08021582, -1.93289037,\n",
       "       -2.15743759,  0.75199122, -3.59027047])"
      ]
     },
     "execution_count": 5,
     "metadata": {},
     "output_type": "execute_result"
    }
   ],
   "source": [
    "lr.coef_"
   ]
  },
  {
   "cell_type": "code",
   "execution_count": 6,
   "id": "bdea083e",
   "metadata": {},
   "outputs": [
    {
     "data": {
      "text/plain": [
       "22.608707124010557"
      ]
     },
     "execution_count": 6,
     "metadata": {},
     "output_type": "execute_result"
    }
   ],
   "source": [
    "lr.intercept_"
   ]
  },
  {
   "cell_type": "code",
   "execution_count": 7,
   "id": "122f3bc5",
   "metadata": {},
   "outputs": [
    {
     "data": {
      "text/plain": [
       "(1, 13)"
      ]
     },
     "execution_count": 7,
     "metadata": {},
     "output_type": "execute_result"
    }
   ],
   "source": [
    "X_train_scaled[0].reshape(1, -1).shape\n",
    "# reshape()를 하는 이유 :\n",
    "## predict() 함수는 두개의 값이 필요하다, (정답, 예측값)\n",
    "### 따라서 X_train_scaled 를 2차원으로 변환시켜 해당 조건을 충족시켰다."
   ]
  },
  {
   "cell_type": "code",
   "execution_count": 8,
   "id": "c5930bb3",
   "metadata": {},
   "outputs": [
    {
     "data": {
      "text/plain": [
       "array([13.54334096])"
      ]
     },
     "execution_count": 8,
     "metadata": {},
     "output_type": "execute_result"
    }
   ],
   "source": [
    "pred_1 = lr.predict(X_train_scaled[0].reshape(1, -1))\n",
    "pred_1"
   ]
  },
  {
   "cell_type": "code",
   "execution_count": 9,
   "id": "eb1e710d",
   "metadata": {},
   "outputs": [],
   "source": [
    "pred_train = lr.predict(X_train_scaled)\n",
    "pred_test = lr.predict(X_test_scaled)"
   ]
  },
  {
   "cell_type": "code",
   "execution_count": 12,
   "id": "063cc4cc",
   "metadata": {},
   "outputs": [
    {
     "name": "stdout",
     "output_type": "stream",
     "text": [
      "=================train set=================\n",
      "MSE :  19.640519427908046\n",
      "RMSE :  4.4317625644779355\n",
      "MAE :  3.103966858299072\n",
      "R2 :  0.7697699488741149\n"
     ]
    }
   ],
   "source": [
    "from metrics import print_metrics_regression\n",
    "print_metrics_regression(y_train, pred_train, \"train set\")"
   ]
  },
  {
   "cell_type": "code",
   "execution_count": 13,
   "id": "e5ea60dd",
   "metadata": {},
   "outputs": [
    {
     "name": "stdout",
     "output_type": "stream",
     "text": [
      "=================test set=================\n",
      "MSE :  29.782245092302333\n",
      "RMSE :  5.4573111595640516\n",
      "MAE :  3.668330148135714\n",
      "R2 :  0.6354638433202133\n"
     ]
    }
   ],
   "source": [
    "pred_test = lr.predict(X_test_scaled)\n",
    "print_metrics_regression(y_test, pred_test, \"test set\")"
   ]
  },
  {
   "cell_type": "code",
   "execution_count": 14,
   "id": "0237fdb6",
   "metadata": {
    "scrolled": false
   },
   "outputs": [
    {
     "data": {
      "image/png": "[encoded data removed]",
      "text/plain": [
       "<Figure size 2000x500 with 1 Axes>"
      ]
     },
     "metadata": {},
     "output_type": "display_data"
    }
   ],
   "source": [
    "import matplotlib.pyplot as plt\n",
    "plt.figure(figsize=(20, 5))\n",
    "x = range(len(y_test)) # index\n",
    "plt.plot(x, y_test, marker='x', label=\"정답\")\n",
    "plt.plot(x, pred_test, marker='o', label=\"추정값\")\n",
    "plt.legend()\n",
    "plt.grid(True, linestyle=':')\n",
    "plt.title(\"정답, 모델 추정값 비교\")\n",
    "plt.show()"
   ]
  },
  {
   "cell_type": "markdown",
   "id": "76ba01d6",
   "metadata": {},
   "source": [
    "## 규제 (Regularization)\n",
    "- 선형 회귀 모델에서 **과대적합(Overfitting) 문제를 해결하기 위해** 가중치(회귀계수)에 페널티 값을 적용한다.\n",
    "- 입력데이터의 Feature들이 너무 많은 경우 Overfitting이 발생.\n",
    "    - Feature수에 비해 관측치 수가 적은 경우 모델이 복잡해 지면서 Overfitting이 발생한다.\n",
    "- 해결\n",
    "    - 데이터를 더 수집한다. \n",
    "    - Feature selection\n",
    "        - 불필요한 Features들을 제거한다.\n",
    "    - 규제 (Regularization) 을 통해 Feature들에 곱해지는 가중치가 커지지 않도록 제한한다.(0에 가까운 값으로 만들어 준다.)\n",
    "        - LinearRegression의 규제는 학습시 계산하는 오차를 키워서 모델이 오차를 줄이기 위해 가중치를 0에 가까운 값으로 만들도록 하는 방식을 사용한다.\n",
    "        - L1 규제 (Lasso)\n",
    "        - L2 규제 (Ridge)"
   ]
  },
  {
   "cell_type": "markdown",
   "id": "75ec84c3",
   "metadata": {},
   "source": [
    "## Ridge Regression (L2 규제)\n",
    "- 손실함수(loss function)에 규제항으로 $\\alpha \\sum_{i=1}^{n}{w_{i}^{2}}$ (L2 Norm)을 더해준다.\n",
    "- $\\alpha$는 하이퍼파라미터로 모델을 얼마나 많이 규제할지 조절한다. \n",
    "    - $\\alpha = 0$ 에 가까울수록 규제가 약해진다. (0일 경우 선형 회귀동일)\n",
    "    - $\\alpha$ 가 커질 수록 모든 가중치가 작아져(0에 가깝게된다.) 입력데이터의 Feature들 중 중요하지 않은 Feature의 예측에 대한 영향력이 작아지게 된다.\n",
    "\n",
    "$$\n",
    "\\text{손실함수}(w) = \\text{MSE}(w) + \\alpha \\cfrac{1}{2}\\sum_{i=1}^{n}{w_{i}^{2}}\n",
    "$$\n",
    "\n",
    "\n",
    "## Lasso(Least Absolut Shrinkage and Selection Operator) Regression (L1 규제)\n",
    "\n",
    "- 손실함수에 규제항으로 $\\alpha \\sum_{i=1}^{n}{\\left| w_i \\right|}$ (L1 Norm)더한다.\n",
    "- Lasso 회귀의 상대적으로 덜 중요한 특성의 가중치를 0으로 만들어 자동으로 Feature Selection이 된다.\n",
    "\n",
    "$$\n",
    "\\text{손실함수}(w) = \\text{MSE}(w) + \\alpha \\sum_{i=1}^{n}{\\left| w_i \\right|}\n",
    "$$\n",
    "\n",
    "<font size=5><span style=\"background-color:#fff5b1\">**Lasso는 가중치들이 0이 되지만, Ridge의 가중치들은 0에 가까워질 뿐 0이 되지는 않는다.**</span></font>\n",
    "<br><br>\n",
    "> **손실함수(Loss Function):** 모델의 예측한 값과 실제값 사이의 차이를 정의하는 함수로 모델이 학습할 때 사용된다.\n",
    "> <br><br>**MSE** : 모든 예측값들의 (정답-예측값)^2 계산결과의 평균 값."
   ]
  },
  {
   "cell_type": "code",
   "execution_count": 41,
   "id": "e561dbdf",
   "metadata": {},
   "outputs": [],
   "source": [
    "from sklearn.linear_model import Ridge, Lasso\n",
    "from metrics import print_metrics_regression"
   ]
  },
  {
   "cell_type": "markdown",
   "id": "1e42ab8a",
   "metadata": {},
   "source": [
    "---\n",
    "\n",
    "## Ridge"
   ]
  },
  {
   "cell_type": "code",
   "execution_count": 18,
   "id": "889e53d2",
   "metadata": {},
   "outputs": [
    {
     "name": "stdout",
     "output_type": "stream",
     "text": [
      "=================Train set=================\n",
      "MSE :  19.64194935381896\n",
      "RMSE :  4.431923888540839\n",
      "MAE :  3.1008864055893786\n",
      "R2 :  0.76975318699993\n",
      "\n",
      "=================Test set=================\n",
      "MSE :  29.853763334547597\n",
      "RMSE :  5.46385974696895\n",
      "MAE :  3.6685057258271088\n",
      "R2 :  0.6345884564889055\n"
     ]
    }
   ],
   "source": [
    "alpha = 1\n",
    "ridge = Ridge(alpha=alpha, random_state=0)\n",
    "ridge.fit(X_train_scaled, y_train)\n",
    "\n",
    "print_metrics_regression(y_train, ridge.predict(X_train_scaled), \"Train set\")\n",
    "print()\n",
    "print_metrics_regression(y_test, ridge.predict(X_test_scaled),\"Test set\")"
   ]
  },
  {
   "cell_type": "code",
   "execution_count": 19,
   "id": "b3258492",
   "metadata": {},
   "outputs": [
    {
     "name": "stdout",
     "output_type": "stream",
     "text": [
      "coefficient : \n",
      "[-0.96187481  1.02775462 -0.06861144  0.59814087 -1.77318401  2.6205672\n",
      " -0.20466821 -2.96504904  2.00091047 -1.85840697 -2.14955893  0.75175979\n",
      " -3.57350065] \n",
      "\n",
      " bias : 22.608707124010557\n"
     ]
    }
   ],
   "source": [
    "print(f\"coefficient : \\n{ridge.coef_} \\n\\n bias : {ridge.intercept_}\")"
   ]
  },
  {
   "cell_type": "code",
   "execution_count": 22,
   "id": "26a90858",
   "metadata": {
    "scrolled": true
   },
   "outputs": [
    {
     "name": "stdout",
     "output_type": "stream",
     "text": [
      "-------------0.001---------------\n",
      "=================test=================\n",
      "MSE :  29.782317016526232\n",
      "RMSE :  5.457317749272644\n",
      "MAE :  3.668330439118321\n",
      "R2 :  0.6354629629641464\n",
      "\n",
      "\n",
      "-------------0.01---------------\n",
      "=================test=================\n",
      "MSE :  29.782964300126405\n",
      "RMSE :  5.457377053138844\n",
      "MAE :  3.6683330470353672\n",
      "R2 :  0.6354550401807848\n",
      "\n",
      "\n",
      "-------------0.1---------------\n",
      "=================test=================\n",
      "MSE :  29.789433705566623\n",
      "RMSE :  5.457969742089692\n",
      "MAE :  3.668358050003145\n",
      "R2 :  0.6353758543374117\n",
      "\n",
      "\n",
      "-------------1---------------\n",
      "=================test=================\n",
      "MSE :  29.853763334547597\n",
      "RMSE :  5.46385974696895\n",
      "MAE :  3.6685057258271088\n",
      "R2 :  0.6345884564889055\n",
      "\n",
      "\n",
      "-------------10---------------\n",
      "=================test=================\n",
      "MSE :  30.451903373741917\n",
      "RMSE :  5.518324326617811\n",
      "MAE :  3.6655743439804733\n",
      "R2 :  0.6272671927504457\n",
      "\n",
      "\n",
      "-------------100---------------\n",
      "=================test=================\n",
      "MSE :  34.00022384210578\n",
      "RMSE :  5.830971089115927\n",
      "MAE :  3.75630765640848\n",
      "R2 :  0.5838355742745134\n",
      "\n",
      "\n",
      "-------------500---------------\n",
      "=================test=================\n",
      "MSE :  41.73984940003687\n",
      "RMSE :  6.4606384669037835\n",
      "MAE :  4.259809416048934\n",
      "R2 :  0.48910217367678366\n",
      "\n",
      "\n",
      "-------------1000---------------\n",
      "=================test=================\n",
      "MSE :  47.38511812879604\n",
      "RMSE :  6.883684923701551\n",
      "MAE :  4.602725616676087\n",
      "R2 :  0.42000380451661756\n",
      "\n",
      "\n"
     ]
    }
   ],
   "source": [
    "import pandas as pd\n",
    "alpha_list = [0.001, 0.01, 0.1, 1, 10, 100, 500, 1000]\n",
    "# alpha\n",
    "# 규제가 약해짐<------------ default : 1 ---------------> 규제가 강해짐.\n",
    "\n",
    "# alpha 의 변화에 따른 weight의 변화를 저장할 DataFrame\n",
    "coef_df = pd.DataFrame() # coef_들\n",
    "bias_list = [] # intercept_\n",
    "\n",
    "for alpha in alpha_list:\n",
    "    ridge = Ridge(alpha=alpha, random_state=0)\n",
    "    ridge.fit(X_train_scaled, y_train)\n",
    "    \n",
    "    # weight와 bias 저장\n",
    "    coef_df[f\"alpha: {alpha}\"] = ridge.coef_\n",
    "    bias_list.append(ridge.intercept_)\n",
    "    \n",
    "    print(f\"-------------{alpha}---------------\")\n",
    "#     print_metrics_regression(y_train, ridge.predict(X_train_scaled), \"train\")\n",
    "    print_metrics_regression(y_test, ridge.predict(X_test_scaled), \"test\")\n",
    "    print(\"\\n\")"
   ]
  },
  {
   "cell_type": "markdown",
   "id": "ad1314b7",
   "metadata": {},
   "source": [
    "#### alpha 값이 커질수록 각 coefficient(가중치들)이 0에 가까워졌다.\n",
    "#### => alpha 값이 커질수록 규제가 강해진다!"
   ]
  },
  {
   "cell_type": "code",
   "execution_count": 40,
   "id": "87c45f49",
   "metadata": {
    "scrolled": true
   },
   "outputs": [
    {
     "data": {
      "text/html": [
       "<div>\n",
       "<style scoped>\n",
       "    .dataframe tbody tr th:only-of-type {\n",
       "        vertical-align: middle;\n",
       "    }\n",
       "\n",
       "    .dataframe tbody tr th {\n",
       "        vertical-align: top;\n",
       "    }\n",
       "\n",
       "    .dataframe thead th {\n",
       "        text-align: right;\n",
       "    }\n",
       "</style>\n",
       "<table border=\"1\" class=\"dataframe\">\n",
       "  <thead>\n",
       "    <tr style=\"text-align: right;\">\n",
       "      <th></th>\n",
       "      <th>alpha: 0.001</th>\n",
       "      <th>alpha: 0.01</th>\n",
       "      <th>alpha: 0.1</th>\n",
       "      <th>alpha: 1</th>\n",
       "      <th>alpha: 10</th>\n",
       "      <th>alpha: 100</th>\n",
       "      <th>alpha: 500</th>\n",
       "      <th>alpha: 1000</th>\n",
       "    </tr>\n",
       "  </thead>\n",
       "  <tbody>\n",
       "    <tr>\n",
       "      <th>0</th>\n",
       "      <td>-0.970992</td>\n",
       "      <td>-0.970907</td>\n",
       "      <td>-0.970063</td>\n",
       "      <td>-0.961875</td>\n",
       "      <td>-0.898519</td>\n",
       "      <td>-0.702647</td>\n",
       "      <td>-0.534735</td>\n",
       "      <td>-0.442678</td>\n",
       "    </tr>\n",
       "    <tr>\n",
       "      <th>1</th>\n",
       "      <td>1.046659</td>\n",
       "      <td>1.046484</td>\n",
       "      <td>1.044735</td>\n",
       "      <td>1.027755</td>\n",
       "      <td>0.895907</td>\n",
       "      <td>0.542402</td>\n",
       "      <td>0.432019</td>\n",
       "      <td>0.382202</td>\n",
       "    </tr>\n",
       "    <tr>\n",
       "      <th>2</th>\n",
       "      <td>-0.040477</td>\n",
       "      <td>-0.040742</td>\n",
       "      <td>-0.043379</td>\n",
       "      <td>-0.068611</td>\n",
       "      <td>-0.241628</td>\n",
       "      <td>-0.539236</td>\n",
       "      <td>-0.571494</td>\n",
       "      <td>-0.512882</td>\n",
       "    </tr>\n",
       "    <tr>\n",
       "      <th>3</th>\n",
       "      <td>0.594092</td>\n",
       "      <td>0.594130</td>\n",
       "      <td>0.594509</td>\n",
       "      <td>0.598141</td>\n",
       "      <td>0.623200</td>\n",
       "      <td>0.643067</td>\n",
       "      <td>0.469501</td>\n",
       "      <td>0.333552</td>\n",
       "    </tr>\n",
       "    <tr>\n",
       "      <th>4</th>\n",
       "      <td>-1.808732</td>\n",
       "      <td>-1.808405</td>\n",
       "      <td>-1.805134</td>\n",
       "      <td>-1.773184</td>\n",
       "      <td>-1.512895</td>\n",
       "      <td>-0.685798</td>\n",
       "      <td>-0.406040</td>\n",
       "      <td>-0.371299</td>\n",
       "    </tr>\n",
       "    <tr>\n",
       "      <th>5</th>\n",
       "      <td>2.609931</td>\n",
       "      <td>2.610030</td>\n",
       "      <td>2.611019</td>\n",
       "      <td>2.620567</td>\n",
       "      <td>2.689748</td>\n",
       "      <td>2.650139</td>\n",
       "      <td>1.776278</td>\n",
       "      <td>1.253866</td>\n",
       "    </tr>\n",
       "    <tr>\n",
       "      <th>6</th>\n",
       "      <td>-0.198240</td>\n",
       "      <td>-0.198300</td>\n",
       "      <td>-0.198901</td>\n",
       "      <td>-0.204668</td>\n",
       "      <td>-0.245227</td>\n",
       "      <td>-0.308313</td>\n",
       "      <td>-0.332627</td>\n",
       "      <td>-0.327295</td>\n",
       "    </tr>\n",
       "    <tr>\n",
       "      <th>7</th>\n",
       "      <td>-3.002128</td>\n",
       "      <td>-3.001789</td>\n",
       "      <td>-2.998407</td>\n",
       "      <td>-2.965049</td>\n",
       "      <td>-2.671723</td>\n",
       "      <td>-1.379397</td>\n",
       "      <td>-0.332010</td>\n",
       "      <td>-0.062878</td>\n",
       "    </tr>\n",
       "    <tr>\n",
       "      <th>8</th>\n",
       "      <td>2.080133</td>\n",
       "      <td>2.079392</td>\n",
       "      <td>2.072006</td>\n",
       "      <td>2.000910</td>\n",
       "      <td>1.486602</td>\n",
       "      <td>0.301828</td>\n",
       "      <td>-0.209340</td>\n",
       "      <td>-0.283024</td>\n",
       "    </tr>\n",
       "    <tr>\n",
       "      <th>9</th>\n",
       "      <td>-1.932813</td>\n",
       "      <td>-1.932113</td>\n",
       "      <td>-1.925143</td>\n",
       "      <td>-1.858407</td>\n",
       "      <td>-1.398256</td>\n",
       "      <td>-0.630364</td>\n",
       "      <td>-0.526917</td>\n",
       "      <td>-0.477386</td>\n",
       "    </tr>\n",
       "    <tr>\n",
       "      <th>10</th>\n",
       "      <td>-2.157430</td>\n",
       "      <td>-2.157357</td>\n",
       "      <td>-2.156634</td>\n",
       "      <td>-2.149559</td>\n",
       "      <td>-2.090199</td>\n",
       "      <td>-1.783409</td>\n",
       "      <td>-1.200892</td>\n",
       "      <td>-0.879779</td>\n",
       "    </tr>\n",
       "    <tr>\n",
       "      <th>11</th>\n",
       "      <td>0.751991</td>\n",
       "      <td>0.751989</td>\n",
       "      <td>0.751965</td>\n",
       "      <td>0.751760</td>\n",
       "      <td>0.750952</td>\n",
       "      <td>0.714219</td>\n",
       "      <td>0.534700</td>\n",
       "      <td>0.422577</td>\n",
       "    </tr>\n",
       "    <tr>\n",
       "      <th>12</th>\n",
       "      <td>-3.590253</td>\n",
       "      <td>-3.590101</td>\n",
       "      <td>-3.588575</td>\n",
       "      <td>-3.573501</td>\n",
       "      <td>-3.438105</td>\n",
       "      <td>-2.683581</td>\n",
       "      <td>-1.621575</td>\n",
       "      <td>-1.162839</td>\n",
       "    </tr>\n",
       "  </tbody>\n",
       "</table>\n",
       "</div>"
      ],
      "text/plain": [
       "    alpha: 0.001  alpha: 0.01  alpha: 0.1  alpha: 1  alpha: 10  alpha: 100  \\\n",
       "0      -0.970992    -0.970907   -0.970063 -0.961875  -0.898519   -0.702647   \n",
       "1       1.046659     1.046484    1.044735  1.027755   0.895907    0.542402   \n",
       "2      -0.040477    -0.040742   -0.043379 -0.068611  -0.241628   -0.539236   \n",
       "3       0.594092     0.594130    0.594509  0.598141   0.623200    0.643067   \n",
       "4      -1.808732    -1.808405   -1.805134 -1.773184  -1.512895   -0.685798   \n",
       "5       2.609931     2.610030    2.611019  2.620567   2.689748    2.650139   \n",
       "6      -0.198240    -0.198300   -0.198901 -0.204668  -0.245227   -0.308313   \n",
       "7      -3.002128    -3.001789   -2.998407 -2.965049  -2.671723   -1.379397   \n",
       "8       2.080133     2.079392    2.072006  2.000910   1.486602    0.301828   \n",
       "9      -1.932813    -1.932113   -1.925143 -1.858407  -1.398256   -0.630364   \n",
       "10     -2.157430    -2.157357   -2.156634 -2.149559  -2.090199   -1.783409   \n",
       "11      0.751991     0.751989    0.751965  0.751760   0.750952    0.714219   \n",
       "12     -3.590253    -3.590101   -3.588575 -3.573501  -3.438105   -2.683581   \n",
       "\n",
       "    alpha: 500  alpha: 1000  \n",
       "0    -0.534735    -0.442678  \n",
       "1     0.432019     0.382202  \n",
       "2    -0.571494    -0.512882  \n",
       "3     0.469501     0.333552  \n",
       "4    -0.406040    -0.371299  \n",
       "5     1.776278     1.253866  \n",
       "6    -0.332627    -0.327295  \n",
       "7    -0.332010    -0.062878  \n",
       "8    -0.209340    -0.283024  \n",
       "9    -0.526917    -0.477386  \n",
       "10   -1.200892    -0.879779  \n",
       "11    0.534700     0.422577  \n",
       "12   -1.621575    -1.162839  "
      ]
     },
     "execution_count": 40,
     "metadata": {},
     "output_type": "execute_result"
    }
   ],
   "source": [
    "coef_df"
   ]
  },
  {
   "cell_type": "markdown",
   "id": "d3749b76",
   "metadata": {},
   "source": [
    "---\n",
    "\n",
    "## Lasso"
   ]
  },
  {
   "cell_type": "code",
   "execution_count": 23,
   "id": "c52510bb",
   "metadata": {
    "scrolled": true
   },
   "outputs": [
    {
     "name": "stdout",
     "output_type": "stream",
     "text": [
      "alphaL 0.001-----------------------\n",
      "=================test=================\n",
      "MSE :  29.79125513018357\n",
      "RMSE :  5.45813659871055\n",
      "MAE :  3.6681969731021136\n",
      "R2 :  0.635353560009785\n",
      "\n",
      "alphaL 0.01-----------------------\n",
      "=================test=================\n",
      "MSE :  29.876831576246808\n",
      "RMSE :  5.465970323396094\n",
      "MAE :  3.666910669625586\n",
      "R2 :  0.6343061000666704\n",
      "\n",
      "alphaL 0.1-----------------------\n",
      "=================test=================\n",
      "MSE :  31.17372483937395\n",
      "RMSE :  5.583343517944597\n",
      "MAE :  3.680155684725112\n",
      "R2 :  0.6184320622196557\n",
      "\n",
      "alphaL 1-----------------------\n",
      "=================test=================\n",
      "MSE :  35.489636168280335\n",
      "RMSE :  5.957317866983458\n",
      "MAE :  3.9285318553756814\n",
      "R2 :  0.5656050935497575\n",
      "\n",
      "alphaL 5-----------------------\n",
      "=================test=================\n",
      "MSE :  59.87237303347597\n",
      "RMSE :  7.737724021537339\n",
      "MAE :  5.2531417018931945\n",
      "R2 :  0.2671591853038978\n",
      "\n",
      "alphaL 10-----------------------\n",
      "=================test=================\n",
      "MSE :  81.7904659829155\n",
      "RMSE :  9.043808157126925\n",
      "MAE :  6.262755282238796\n",
      "R2 :  -0.001119359203955339\n",
      "\n"
     ]
    }
   ],
   "source": [
    "alpha_list2 = [0.001, 0.01, 0.1, 1, 5, 10]\n",
    "\n",
    "coef_df2 = pd.DataFrame()\n",
    "bias_list2 = []\n",
    "\n",
    "for alpha in alpha_list2:\n",
    "    \n",
    "    lasso = Lasso(alpha=alpha, random_state=0)\n",
    "    lasso.fit(X_train_scaled, y_train)\n",
    "    \n",
    "    coef_df2[f'alpha: {alpha}'] = lasso.coef_\n",
    "    bias_list2.append(lasso.intercept_)\n",
    "    \n",
    "    print(f\"alphaL {alpha}-----------------------\")\n",
    "#     print_metrics_regression(y_train, lasso.predict(X_train_scaled), \"train\")\n",
    "    print_metrics_regression(y_test, lasso.predict(X_test_scaled), \"test\")\n",
    "    print()"
   ]
  },
  {
   "cell_type": "code",
   "execution_count": 24,
   "id": "d3ae6649",
   "metadata": {},
   "outputs": [
    {
     "data": {
      "text/html": [
       "<div>\n",
       "<style scoped>\n",
       "    .dataframe tbody tr th:only-of-type {\n",
       "        vertical-align: middle;\n",
       "    }\n",
       "\n",
       "    .dataframe tbody tr th {\n",
       "        vertical-align: top;\n",
       "    }\n",
       "\n",
       "    .dataframe thead th {\n",
       "        text-align: right;\n",
       "    }\n",
       "</style>\n",
       "<table border=\"1\" class=\"dataframe\">\n",
       "  <thead>\n",
       "    <tr style=\"text-align: right;\">\n",
       "      <th></th>\n",
       "      <th>alpha: 0.001</th>\n",
       "      <th>alpha: 0.01</th>\n",
       "      <th>alpha: 0.1</th>\n",
       "      <th>alpha: 1</th>\n",
       "      <th>alpha: 5</th>\n",
       "      <th>alpha: 10</th>\n",
       "    </tr>\n",
       "  </thead>\n",
       "  <tbody>\n",
       "    <tr>\n",
       "      <th>0</th>\n",
       "      <td>-0.967848</td>\n",
       "      <td>-0.939492</td>\n",
       "      <td>-0.659315</td>\n",
       "      <td>-0.000000</td>\n",
       "      <td>-0.000000</td>\n",
       "      <td>-0.0</td>\n",
       "    </tr>\n",
       "    <tr>\n",
       "      <th>1</th>\n",
       "      <td>1.043088</td>\n",
       "      <td>1.010377</td>\n",
       "      <td>0.684820</td>\n",
       "      <td>0.000000</td>\n",
       "      <td>0.000000</td>\n",
       "      <td>0.0</td>\n",
       "    </tr>\n",
       "    <tr>\n",
       "      <th>2</th>\n",
       "      <td>-0.042280</td>\n",
       "      <td>-0.057475</td>\n",
       "      <td>-0.207389</td>\n",
       "      <td>-0.000000</td>\n",
       "      <td>-0.000000</td>\n",
       "      <td>-0.0</td>\n",
       "    </tr>\n",
       "    <tr>\n",
       "      <th>3</th>\n",
       "      <td>0.593919</td>\n",
       "      <td>0.592324</td>\n",
       "      <td>0.575874</td>\n",
       "      <td>0.000000</td>\n",
       "      <td>0.000000</td>\n",
       "      <td>0.0</td>\n",
       "    </tr>\n",
       "    <tr>\n",
       "      <th>4</th>\n",
       "      <td>-1.804056</td>\n",
       "      <td>-1.761604</td>\n",
       "      <td>-1.345790</td>\n",
       "      <td>-0.000000</td>\n",
       "      <td>-0.000000</td>\n",
       "      <td>-0.0</td>\n",
       "    </tr>\n",
       "    <tr>\n",
       "      <th>5</th>\n",
       "      <td>2.611194</td>\n",
       "      <td>2.622904</td>\n",
       "      <td>2.738958</td>\n",
       "      <td>2.529330</td>\n",
       "      <td>0.374985</td>\n",
       "      <td>0.0</td>\n",
       "    </tr>\n",
       "    <tr>\n",
       "      <th>6</th>\n",
       "      <td>-0.196298</td>\n",
       "      <td>-0.179110</td>\n",
       "      <td>-0.007398</td>\n",
       "      <td>-0.000000</td>\n",
       "      <td>-0.000000</td>\n",
       "      <td>-0.0</td>\n",
       "    </tr>\n",
       "    <tr>\n",
       "      <th>7</th>\n",
       "      <td>-2.994364</td>\n",
       "      <td>-2.923287</td>\n",
       "      <td>-2.216914</td>\n",
       "      <td>-0.000000</td>\n",
       "      <td>0.000000</td>\n",
       "      <td>0.0</td>\n",
       "    </tr>\n",
       "    <tr>\n",
       "      <th>8</th>\n",
       "      <td>2.065494</td>\n",
       "      <td>1.933983</td>\n",
       "      <td>0.632402</td>\n",
       "      <td>-0.000000</td>\n",
       "      <td>-0.000000</td>\n",
       "      <td>-0.0</td>\n",
       "    </tr>\n",
       "    <tr>\n",
       "      <th>9</th>\n",
       "      <td>-1.920598</td>\n",
       "      <td>-1.811185</td>\n",
       "      <td>-0.724794</td>\n",
       "      <td>-0.227631</td>\n",
       "      <td>-0.000000</td>\n",
       "      <td>-0.0</td>\n",
       "    </tr>\n",
       "    <tr>\n",
       "      <th>10</th>\n",
       "      <td>-2.156365</td>\n",
       "      <td>-2.147052</td>\n",
       "      <td>-2.055994</td>\n",
       "      <td>-1.700884</td>\n",
       "      <td>-0.000000</td>\n",
       "      <td>-0.0</td>\n",
       "    </tr>\n",
       "    <tr>\n",
       "      <th>11</th>\n",
       "      <td>0.750737</td>\n",
       "      <td>0.739642</td>\n",
       "      <td>0.629083</td>\n",
       "      <td>0.131861</td>\n",
       "      <td>0.000000</td>\n",
       "      <td>0.0</td>\n",
       "    </tr>\n",
       "    <tr>\n",
       "      <th>12</th>\n",
       "      <td>-3.590991</td>\n",
       "      <td>-3.597323</td>\n",
       "      <td>-3.658501</td>\n",
       "      <td>-3.605655</td>\n",
       "      <td>-1.752124</td>\n",
       "      <td>-0.0</td>\n",
       "    </tr>\n",
       "  </tbody>\n",
       "</table>\n",
       "</div>"
      ],
      "text/plain": [
       "    alpha: 0.001  alpha: 0.01  alpha: 0.1  alpha: 1  alpha: 5  alpha: 10\n",
       "0      -0.967848    -0.939492   -0.659315 -0.000000 -0.000000       -0.0\n",
       "1       1.043088     1.010377    0.684820  0.000000  0.000000        0.0\n",
       "2      -0.042280    -0.057475   -0.207389 -0.000000 -0.000000       -0.0\n",
       "3       0.593919     0.592324    0.575874  0.000000  0.000000        0.0\n",
       "4      -1.804056    -1.761604   -1.345790 -0.000000 -0.000000       -0.0\n",
       "5       2.611194     2.622904    2.738958  2.529330  0.374985        0.0\n",
       "6      -0.196298    -0.179110   -0.007398 -0.000000 -0.000000       -0.0\n",
       "7      -2.994364    -2.923287   -2.216914 -0.000000  0.000000        0.0\n",
       "8       2.065494     1.933983    0.632402 -0.000000 -0.000000       -0.0\n",
       "9      -1.920598    -1.811185   -0.724794 -0.227631 -0.000000       -0.0\n",
       "10     -2.156365    -2.147052   -2.055994 -1.700884 -0.000000       -0.0\n",
       "11      0.750737     0.739642    0.629083  0.131861  0.000000        0.0\n",
       "12     -3.590991    -3.597323   -3.658501 -3.605655 -1.752124       -0.0"
      ]
     },
     "execution_count": 24,
     "metadata": {},
     "output_type": "execute_result"
    }
   ],
   "source": [
    "coef_df2"
   ]
  },
  {
   "cell_type": "markdown",
   "id": "6fc2480b",
   "metadata": {},
   "source": [
    "# 정리\n",
    "- 일반적으로 선형회귀의 경우 어느정도 규제가 있는 경우가 성능이 좋다.\n",
    "- 기본적으로 **Ridge**를 사용한다.\n",
    "- Target에 영향을 주는 Feature가 몇 개뿐일 경우 특성의 가중치를 0으로 만들어 주는 **Lasso** 사용한다. "
   ]
  },
  {
   "cell_type": "code",
   "execution_count": null,
   "id": "a1a7c0ec",
   "metadata": {},
   "outputs": [],
   "source": []
  },
  {
   "cell_type": "code",
   "execution_count": null,
   "id": "a24ce34d",
   "metadata": {},
   "outputs": [],
   "source": []
  },
  {
   "cell_type": "code",
   "execution_count": null,
   "id": "70eda5c8",
   "metadata": {},
   "outputs": [],
   "source": []
  },
  {
   "cell_type": "code",
   "execution_count": null,
   "id": "78641c6c",
   "metadata": {},
   "outputs": [],
   "source": []
  },
  {
   "cell_type": "markdown",
   "id": "7df3c0e9",
   "metadata": {},
   "source": [
    "# 로지스틱 회귀\n",
    "- 선형회귀 알고리즘을 이용한 이진 분류 모델\n",
    "- Sample이 특정 클래스에 속할 확률을 추정한다. "
   ]
  },
  {
   "cell_type": "markdown",
   "id": "1de009fb",
   "metadata": {},
   "source": [
    "## LogisticRegression 주요 하이퍼파라미터\n",
    "- penalty: 과적합을 줄이기 위한 규제방식\n",
    "    - 'l1', 'l2'(기본값), 'elasticnet', 'none' \n",
    "- C: 규제강도(기본값 1) - 작을 수록 규제가 강하다(단순).\n",
    "- max_iter(기본값 100) : 경사하강법 반복횟수"
   ]
  },
  {
   "cell_type": "code",
   "execution_count": 26,
   "id": "b6de9cc6",
   "metadata": {},
   "outputs": [],
   "source": [
    "from dataset import get_breast_cancer_dataset\n",
    "\n",
    "from sklearn.linear_model import LogisticRegression\n",
    "from metrics import print_metrics_classification"
   ]
  },
  {
   "cell_type": "code",
   "execution_count": 27,
   "id": "fab3d2d0",
   "metadata": {},
   "outputs": [],
   "source": [
    "(X_train, X_test, y_train, y_test), feature_names = get_breast_cancer_dataset(scaling=True)"
   ]
  },
  {
   "cell_type": "code",
   "execution_count": 28,
   "id": "7bdf9532",
   "metadata": {},
   "outputs": [
    {
     "data": {
      "text/html": [
       "<style>#sk-container-id-2 {color: black;background-color: white;}#sk-container-id-2 pre{padding: 0;}#sk-container-id-2 div.sk-toggleable {background-color: white;}#sk-container-id-2 label.sk-toggleable__label {cursor: pointer;display: block;width: 100%;margin-bottom: 0;padding: 0.3em;box-sizing: border-box;text-align: center;}#sk-container-id-2 label.sk-toggleable__label-arrow:before {content: \"▸\";float: left;margin-right: 0.25em;color: #696969;}#sk-container-id-2 label.sk-toggleable__label-arrow:hover:before {color: black;}#sk-container-id-2 div.sk-estimator:hover label.sk-toggleable__label-arrow:before {color: black;}#sk-container-id-2 div.sk-toggleable__content {max-height: 0;max-width: 0;overflow: hidden;text-align: left;background-color: #f0f8ff;}#sk-container-id-2 div.sk-toggleable__content pre {margin: 0.2em;color: black;border-radius: 0.25em;background-color: #f0f8ff;}#sk-container-id-2 input.sk-toggleable__control:checked~div.sk-toggleable__content {max-height: 200px;max-width: 100%;overflow: auto;}#sk-container-id-2 input.sk-toggleable__control:checked~label.sk-toggleable__label-arrow:before {content: \"▾\";}#sk-container-id-2 div.sk-estimator input.sk-toggleable__control:checked~label.sk-toggleable__label {background-color: #d4ebff;}#sk-container-id-2 div.sk-label input.sk-toggleable__control:checked~label.sk-toggleable__label {background-color: #d4ebff;}#sk-container-id-2 input.sk-hidden--visually {border: 0;clip: rect(1px 1px 1px 1px);clip: rect(1px, 1px, 1px, 1px);height: 1px;margin: -1px;overflow: hidden;padding: 0;position: absolute;width: 1px;}#sk-container-id-2 div.sk-estimator {font-family: monospace;background-color: #f0f8ff;border: 1px dotted black;border-radius: 0.25em;box-sizing: border-box;margin-bottom: 0.5em;}#sk-container-id-2 div.sk-estimator:hover {background-color: #d4ebff;}#sk-container-id-2 div.sk-parallel-item::after {content: \"\";width: 100%;border-bottom: 1px solid gray;flex-grow: 1;}#sk-container-id-2 div.sk-label:hover label.sk-toggleable__label {background-color: #d4ebff;}#sk-container-id-2 div.sk-serial::before {content: \"\";position: absolute;border-left: 1px solid gray;box-sizing: border-box;top: 0;bottom: 0;left: 50%;z-index: 0;}#sk-container-id-2 div.sk-serial {display: flex;flex-direction: column;align-items: center;background-color: white;padding-right: 0.2em;padding-left: 0.2em;position: relative;}#sk-container-id-2 div.sk-item {position: relative;z-index: 1;}#sk-container-id-2 div.sk-parallel {display: flex;align-items: stretch;justify-content: center;background-color: white;position: relative;}#sk-container-id-2 div.sk-item::before, #sk-container-id-2 div.sk-parallel-item::before {content: \"\";position: absolute;border-left: 1px solid gray;box-sizing: border-box;top: 0;bottom: 0;left: 50%;z-index: -1;}#sk-container-id-2 div.sk-parallel-item {display: flex;flex-direction: column;z-index: 1;position: relative;background-color: white;}#sk-container-id-2 div.sk-parallel-item:first-child::after {align-self: flex-end;width: 50%;}#sk-container-id-2 div.sk-parallel-item:last-child::after {align-self: flex-start;width: 50%;}#sk-container-id-2 div.sk-parallel-item:only-child::after {width: 0;}#sk-container-id-2 div.sk-dashed-wrapped {border: 1px dashed gray;margin: 0 0.4em 0.5em 0.4em;box-sizing: border-box;padding-bottom: 0.4em;background-color: white;}#sk-container-id-2 div.sk-label label {font-family: monospace;font-weight: bold;display: inline-block;line-height: 1.2em;}#sk-container-id-2 div.sk-label-container {text-align: center;}#sk-container-id-2 div.sk-container {/* jupyter's `normalize.less` sets `[hidden] { display: none; }` but bootstrap.min.css set `[hidden] { display: none !important; }` so we also need the `!important` here to be able to override the default hidden behavior on the sphinx rendered scikit-learn.org. See: https://github.com/scikit-learn/scikit-learn/issues/21755 */display: inline-block !important;position: relative;}#sk-container-id-2 div.sk-text-repr-fallback {display: none;}</style><div id=\"sk-container-id-2\" class=\"sk-top-container\"><div class=\"sk-text-repr-fallback\"><pre>LogisticRegression(random_state=0)</pre><b>In a Jupyter environment, please rerun this cell to show the HTML representation or trust the notebook. <br />On GitHub, the HTML representation is unable to render, please try loading this page with nbviewer.org.</b></div><div class=\"sk-container\" hidden><div class=\"sk-item\"><div class=\"sk-estimator sk-toggleable\"><input class=\"sk-toggleable__control sk-hidden--visually\" id=\"sk-estimator-id-2\" type=\"checkbox\" checked><label for=\"sk-estimator-id-2\" class=\"sk-toggleable__label sk-toggleable__label-arrow\">LogisticRegression</label><div class=\"sk-toggleable__content\"><pre>LogisticRegression(random_state=0)</pre></div></div></div></div></div>"
      ],
      "text/plain": [
       "LogisticRegression(random_state=0)"
      ]
     },
     "execution_count": 28,
     "metadata": {},
     "output_type": "execute_result"
    }
   ],
   "source": [
    "lr = LogisticRegression(random_state=0)\n",
    "lr.fit(X_train, y_train)"
   ]
  },
  {
   "cell_type": "code",
   "execution_count": 29,
   "id": "bfd4c374",
   "metadata": {},
   "outputs": [
    {
     "data": {
      "text/plain": [
       "array([[-0.54384088, -0.34034271, -0.49560632, -0.56663005, -0.05559393,\n",
       "         0.3999005 , -0.80734348, -1.10605291,  0.02920742,  0.40610307,\n",
       "        -1.21922963, -0.13909852, -0.51970089, -0.76005919, -0.21510325,\n",
       "         0.69981736,  0.02923076, -0.35243416,  0.47310794,  0.55701021,\n",
       "        -0.99402288, -1.10967269, -0.77768019, -0.87390453, -0.46969384,\n",
       "        -0.13650097, -0.68987558, -0.91744655, -0.70517455, -0.74475703]])"
      ]
     },
     "execution_count": 29,
     "metadata": {},
     "output_type": "execute_result"
    }
   ],
   "source": [
    "lr.coef_"
   ]
  },
  {
   "cell_type": "code",
   "execution_count": 30,
   "id": "61c1d1e6",
   "metadata": {},
   "outputs": [
    {
     "data": {
      "text/plain": [
       "array([0.33121447])"
      ]
     },
     "execution_count": 30,
     "metadata": {},
     "output_type": "execute_result"
    }
   ],
   "source": [
    "lr.intercept_"
   ]
  },
  {
   "cell_type": "code",
   "execution_count": 31,
   "id": "a9fbca90",
   "metadata": {},
   "outputs": [
    {
     "data": {
      "text/plain": [
       "array([1, 0, 0, 1, 0])"
      ]
     },
     "execution_count": 31,
     "metadata": {},
     "output_type": "execute_result"
    }
   ],
   "source": [
    "pred_train = lr.predict(X_train)\n",
    "pred_test = lr.predict(X_test)\n",
    "pred_test[:5]"
   ]
  },
  {
   "cell_type": "code",
   "execution_count": 33,
   "id": "2efc98e1",
   "metadata": {},
   "outputs": [
    {
     "data": {
      "text/plain": [
       "array([[4.22769360e-03, 9.95772306e-01],\n",
       "       [9.99974485e-01, 2.55153473e-05],\n",
       "       [9.99772750e-01, 2.27249551e-04],\n",
       "       [4.26402511e-04, 9.99573597e-01],\n",
       "       [9.97490889e-01, 2.50911147e-03]])"
      ]
     },
     "execution_count": 33,
     "metadata": {},
     "output_type": "execute_result"
    }
   ],
   "source": [
    "proba_train = lr.predict_proba(X_train)\n",
    "proba_test = lr.predict_proba(X_test)\n",
    "proba_test[:5]"
   ]
  },
  {
   "cell_type": "code",
   "execution_count": 34,
   "id": "9065c298",
   "metadata": {},
   "outputs": [
    {
     "name": "stdout",
     "output_type": "stream",
     "text": [
      "=================train set=================\n",
      "정확도 Accuracy :  0.9906103286384976\n",
      "재현율 Recall :  0.9962546816479401\n",
      "정밀도 Precision :  0.9888475836431226\n",
      "F-1 Score :  0.9925373134328358\n",
      "Average Precision :  0.9985900639964462\n",
      "ROC-AUC :  0.9979271194026335\n",
      "=================test set=================\n",
      "정확도 Accuracy :  0.958041958041958\n",
      "재현율 Recall :  0.9666666666666667\n",
      "정밀도 Precision :  0.9666666666666667\n",
      "F-1 Score :  0.9666666666666667\n",
      "Average Precision :  0.9971317270472638\n",
      "ROC-AUC :  0.9951781970649896\n"
     ]
    }
   ],
   "source": [
    "print_metrics_classification(y_train, pred_train, proba_train[:, 1], \"train set\")\n",
    "print_metrics_classification(y_test, pred_test, proba_test[:, 1], \"test set\")"
   ]
  },
  {
   "cell_type": "code",
   "execution_count": 39,
   "id": "93add4c7",
   "metadata": {},
   "outputs": [
    {
     "data": {
      "text/html": [
       "<style>#sk-container-id-4 {color: black;background-color: white;}#sk-container-id-4 pre{padding: 0;}#sk-container-id-4 div.sk-toggleable {background-color: white;}#sk-container-id-4 label.sk-toggleable__label {cursor: pointer;display: block;width: 100%;margin-bottom: 0;padding: 0.3em;box-sizing: border-box;text-align: center;}#sk-container-id-4 label.sk-toggleable__label-arrow:before {content: \"▸\";float: left;margin-right: 0.25em;color: #696969;}#sk-container-id-4 label.sk-toggleable__label-arrow:hover:before {color: black;}#sk-container-id-4 div.sk-estimator:hover label.sk-toggleable__label-arrow:before {color: black;}#sk-container-id-4 div.sk-toggleable__content {max-height: 0;max-width: 0;overflow: hidden;text-align: left;background-color: #f0f8ff;}#sk-container-id-4 div.sk-toggleable__content pre {margin: 0.2em;color: black;border-radius: 0.25em;background-color: #f0f8ff;}#sk-container-id-4 input.sk-toggleable__control:checked~div.sk-toggleable__content {max-height: 200px;max-width: 100%;overflow: auto;}#sk-container-id-4 input.sk-toggleable__control:checked~label.sk-toggleable__label-arrow:before {content: \"▾\";}#sk-container-id-4 div.sk-estimator input.sk-toggleable__control:checked~label.sk-toggleable__label {background-color: #d4ebff;}#sk-container-id-4 div.sk-label input.sk-toggleable__control:checked~label.sk-toggleable__label {background-color: #d4ebff;}#sk-container-id-4 input.sk-hidden--visually {border: 0;clip: rect(1px 1px 1px 1px);clip: rect(1px, 1px, 1px, 1px);height: 1px;margin: -1px;overflow: hidden;padding: 0;position: absolute;width: 1px;}#sk-container-id-4 div.sk-estimator {font-family: monospace;background-color: #f0f8ff;border: 1px dotted black;border-radius: 0.25em;box-sizing: border-box;margin-bottom: 0.5em;}#sk-container-id-4 div.sk-estimator:hover {background-color: #d4ebff;}#sk-container-id-4 div.sk-parallel-item::after {content: \"\";width: 100%;border-bottom: 1px solid gray;flex-grow: 1;}#sk-container-id-4 div.sk-label:hover label.sk-toggleable__label {background-color: #d4ebff;}#sk-container-id-4 div.sk-serial::before {content: \"\";position: absolute;border-left: 1px solid gray;box-sizing: border-box;top: 0;bottom: 0;left: 50%;z-index: 0;}#sk-container-id-4 div.sk-serial {display: flex;flex-direction: column;align-items: center;background-color: white;padding-right: 0.2em;padding-left: 0.2em;position: relative;}#sk-container-id-4 div.sk-item {position: relative;z-index: 1;}#sk-container-id-4 div.sk-parallel {display: flex;align-items: stretch;justify-content: center;background-color: white;position: relative;}#sk-container-id-4 div.sk-item::before, #sk-container-id-4 div.sk-parallel-item::before {content: \"\";position: absolute;border-left: 1px solid gray;box-sizing: border-box;top: 0;bottom: 0;left: 50%;z-index: -1;}#sk-container-id-4 div.sk-parallel-item {display: flex;flex-direction: column;z-index: 1;position: relative;background-color: white;}#sk-container-id-4 div.sk-parallel-item:first-child::after {align-self: flex-end;width: 50%;}#sk-container-id-4 div.sk-parallel-item:last-child::after {align-self: flex-start;width: 50%;}#sk-container-id-4 div.sk-parallel-item:only-child::after {width: 0;}#sk-container-id-4 div.sk-dashed-wrapped {border: 1px dashed gray;margin: 0 0.4em 0.5em 0.4em;box-sizing: border-box;padding-bottom: 0.4em;background-color: white;}#sk-container-id-4 div.sk-label label {font-family: monospace;font-weight: bold;display: inline-block;line-height: 1.2em;}#sk-container-id-4 div.sk-label-container {text-align: center;}#sk-container-id-4 div.sk-container {/* jupyter's `normalize.less` sets `[hidden] { display: none; }` but bootstrap.min.css set `[hidden] { display: none !important; }` so we also need the `!important` here to be able to override the default hidden behavior on the sphinx rendered scikit-learn.org. See: https://github.com/scikit-learn/scikit-learn/issues/21755 */display: inline-block !important;position: relative;}#sk-container-id-4 div.sk-text-repr-fallback {display: none;}</style><div id=\"sk-container-id-4\" class=\"sk-top-container\"><div class=\"sk-text-repr-fallback\"><pre>GridSearchCV(cv=4,\n",
       "             estimator=LogisticRegression(random_state=0, solver=&#x27;liblinear&#x27;),\n",
       "             n_jobs=-1,\n",
       "             param_grid={&#x27;C&#x27;: [0.01, 0.1, 1, 5, 10], &#x27;penalty&#x27;: [&#x27;l1&#x27;, &#x27;l2&#x27;]},\n",
       "             scoring=&#x27;accuracy&#x27;)</pre><b>In a Jupyter environment, please rerun this cell to show the HTML representation or trust the notebook. <br />On GitHub, the HTML representation is unable to render, please try loading this page with nbviewer.org.</b></div><div class=\"sk-container\" hidden><div class=\"sk-item sk-dashed-wrapped\"><div class=\"sk-label-container\"><div class=\"sk-label sk-toggleable\"><input class=\"sk-toggleable__control sk-hidden--visually\" id=\"sk-estimator-id-6\" type=\"checkbox\" ><label for=\"sk-estimator-id-6\" class=\"sk-toggleable__label sk-toggleable__label-arrow\">GridSearchCV</label><div class=\"sk-toggleable__content\"><pre>GridSearchCV(cv=4,\n",
       "             estimator=LogisticRegression(random_state=0, solver=&#x27;liblinear&#x27;),\n",
       "             n_jobs=-1,\n",
       "             param_grid={&#x27;C&#x27;: [0.01, 0.1, 1, 5, 10], &#x27;penalty&#x27;: [&#x27;l1&#x27;, &#x27;l2&#x27;]},\n",
       "             scoring=&#x27;accuracy&#x27;)</pre></div></div></div><div class=\"sk-parallel\"><div class=\"sk-parallel-item\"><div class=\"sk-item\"><div class=\"sk-label-container\"><div class=\"sk-label sk-toggleable\"><input class=\"sk-toggleable__control sk-hidden--visually\" id=\"sk-estimator-id-7\" type=\"checkbox\" ><label for=\"sk-estimator-id-7\" class=\"sk-toggleable__label sk-toggleable__label-arrow\">estimator: LogisticRegression</label><div class=\"sk-toggleable__content\"><pre>LogisticRegression(random_state=0, solver=&#x27;liblinear&#x27;)</pre></div></div></div><div class=\"sk-serial\"><div class=\"sk-item\"><div class=\"sk-estimator sk-toggleable\"><input class=\"sk-toggleable__control sk-hidden--visually\" id=\"sk-estimator-id-8\" type=\"checkbox\" ><label for=\"sk-estimator-id-8\" class=\"sk-toggleable__label sk-toggleable__label-arrow\">LogisticRegression</label><div class=\"sk-toggleable__content\"><pre>LogisticRegression(random_state=0, solver=&#x27;liblinear&#x27;)</pre></div></div></div></div></div></div></div></div></div></div>"
      ],
      "text/plain": [
       "GridSearchCV(cv=4,\n",
       "             estimator=LogisticRegression(random_state=0, solver='liblinear'),\n",
       "             n_jobs=-1,\n",
       "             param_grid={'C': [0.01, 0.1, 1, 5, 10], 'penalty': ['l1', 'l2']},\n",
       "             scoring='accuracy')"
      ]
     },
     "execution_count": 39,
     "metadata": {},
     "output_type": "execute_result"
    }
   ],
   "source": [
    "from sklearn.model_selection import GridSearchCV\n",
    "\n",
    "params = {\n",
    "    'penalty':['l1', 'l2'], #l1: Lasso, l2: Ridge, None: Linear Regression\n",
    "    'C':[0.01, 0.1, 1, 5, 10], # 작을수록 강한 규제(overfitting: 작은값으로 변경.)\n",
    "}\n",
    "\n",
    "# solver: 최적화 알고리즘 -> 경사하강법을 개선한 알고리즘.\n",
    "gs = GridSearchCV(LogisticRegression(random_state=0, solver='liblinear'), \n",
    "                  params, \n",
    "                  scoring='accuracy', \n",
    "                  cv=4, \n",
    "                  n_jobs=-1)\n",
    "gs.fit(X_train, y_train)"
   ]
  },
  {
   "cell_type": "code",
   "execution_count": 36,
   "id": "8d244f49",
   "metadata": {},
   "outputs": [
    {
     "data": {
      "text/plain": [
       "{'C': 0.1, 'penalty': 'l2'}"
      ]
     },
     "execution_count": 36,
     "metadata": {},
     "output_type": "execute_result"
    }
   ],
   "source": [
    "gs.best_params_"
   ]
  },
  {
   "cell_type": "code",
   "execution_count": 37,
   "id": "14c1d90c",
   "metadata": {},
   "outputs": [
    {
     "data": {
      "text/plain": [
       "0.9813084112149533"
      ]
     },
     "execution_count": 37,
     "metadata": {},
     "output_type": "execute_result"
    }
   ],
   "source": [
    "gs.best_score_"
   ]
  },
  {
   "cell_type": "code",
   "execution_count": 38,
   "id": "20fd1cfa",
   "metadata": {},
   "outputs": [
    {
     "data": {
      "text/html": [
       "<div>\n",
       "<style scoped>\n",
       "    .dataframe tbody tr th:only-of-type {\n",
       "        vertical-align: middle;\n",
       "    }\n",
       "\n",
       "    .dataframe tbody tr th {\n",
       "        vertical-align: top;\n",
       "    }\n",
       "\n",
       "    .dataframe thead th {\n",
       "        text-align: right;\n",
       "    }\n",
       "</style>\n",
       "<table border=\"1\" class=\"dataframe\">\n",
       "  <thead>\n",
       "    <tr style=\"text-align: right;\">\n",
       "      <th></th>\n",
       "      <th>mean_fit_time</th>\n",
       "      <th>std_fit_time</th>\n",
       "      <th>mean_score_time</th>\n",
       "      <th>std_score_time</th>\n",
       "      <th>param_C</th>\n",
       "      <th>param_penalty</th>\n",
       "      <th>params</th>\n",
       "      <th>split0_test_score</th>\n",
       "      <th>split1_test_score</th>\n",
       "      <th>split2_test_score</th>\n",
       "      <th>split3_test_score</th>\n",
       "      <th>mean_test_score</th>\n",
       "      <th>std_test_score</th>\n",
       "      <th>rank_test_score</th>\n",
       "    </tr>\n",
       "  </thead>\n",
       "  <tbody>\n",
       "    <tr>\n",
       "      <th>3</th>\n",
       "      <td>0.003241</td>\n",
       "      <td>0.000432</td>\n",
       "      <td>0.001747</td>\n",
       "      <td>0.000433</td>\n",
       "      <td>0.1</td>\n",
       "      <td>l2</td>\n",
       "      <td>{'C': 0.1, 'penalty': 'l2'}</td>\n",
       "      <td>0.953271</td>\n",
       "      <td>0.971963</td>\n",
       "      <td>1.000000</td>\n",
       "      <td>1.000000</td>\n",
       "      <td>0.981308</td>\n",
       "      <td>0.019825</td>\n",
       "      <td>1</td>\n",
       "    </tr>\n",
       "    <tr>\n",
       "      <th>5</th>\n",
       "      <td>0.004736</td>\n",
       "      <td>0.000433</td>\n",
       "      <td>0.001496</td>\n",
       "      <td>0.000498</td>\n",
       "      <td>1</td>\n",
       "      <td>l2</td>\n",
       "      <td>{'C': 1, 'penalty': 'l2'}</td>\n",
       "      <td>0.953271</td>\n",
       "      <td>0.971963</td>\n",
       "      <td>0.990566</td>\n",
       "      <td>0.981132</td>\n",
       "      <td>0.974233</td>\n",
       "      <td>0.013774</td>\n",
       "      <td>2</td>\n",
       "    </tr>\n",
       "    <tr>\n",
       "      <th>2</th>\n",
       "      <td>0.003872</td>\n",
       "      <td>0.001329</td>\n",
       "      <td>0.001378</td>\n",
       "      <td>0.000819</td>\n",
       "      <td>0.1</td>\n",
       "      <td>l1</td>\n",
       "      <td>{'C': 0.1, 'penalty': 'l1'}</td>\n",
       "      <td>0.943925</td>\n",
       "      <td>0.971963</td>\n",
       "      <td>0.981132</td>\n",
       "      <td>0.990566</td>\n",
       "      <td>0.971896</td>\n",
       "      <td>0.017437</td>\n",
       "      <td>3</td>\n",
       "    </tr>\n",
       "    <tr>\n",
       "      <th>1</th>\n",
       "      <td>0.003491</td>\n",
       "      <td>0.000498</td>\n",
       "      <td>0.001246</td>\n",
       "      <td>0.000430</td>\n",
       "      <td>0.01</td>\n",
       "      <td>l2</td>\n",
       "      <td>{'C': 0.01, 'penalty': 'l2'}</td>\n",
       "      <td>0.925234</td>\n",
       "      <td>0.971963</td>\n",
       "      <td>0.990566</td>\n",
       "      <td>0.981132</td>\n",
       "      <td>0.967224</td>\n",
       "      <td>0.025119</td>\n",
       "      <td>4</td>\n",
       "    </tr>\n",
       "    <tr>\n",
       "      <th>4</th>\n",
       "      <td>0.003990</td>\n",
       "      <td>0.001222</td>\n",
       "      <td>0.000997</td>\n",
       "      <td>0.000002</td>\n",
       "      <td>1</td>\n",
       "      <td>l1</td>\n",
       "      <td>{'C': 1, 'penalty': 'l1'}</td>\n",
       "      <td>0.943925</td>\n",
       "      <td>0.962617</td>\n",
       "      <td>0.981132</td>\n",
       "      <td>0.981132</td>\n",
       "      <td>0.967202</td>\n",
       "      <td>0.015419</td>\n",
       "      <td>5</td>\n",
       "    </tr>\n",
       "  </tbody>\n",
       "</table>\n",
       "</div>"
      ],
      "text/plain": [
       "   mean_fit_time  std_fit_time  mean_score_time  std_score_time param_C  \\\n",
       "3       0.003241      0.000432         0.001747        0.000433     0.1   \n",
       "5       0.004736      0.000433         0.001496        0.000498       1   \n",
       "2       0.003872      0.001329         0.001378        0.000819     0.1   \n",
       "1       0.003491      0.000498         0.001246        0.000430    0.01   \n",
       "4       0.003990      0.001222         0.000997        0.000002       1   \n",
       "\n",
       "  param_penalty                        params  split0_test_score  \\\n",
       "3            l2   {'C': 0.1, 'penalty': 'l2'}           0.953271   \n",
       "5            l2     {'C': 1, 'penalty': 'l2'}           0.953271   \n",
       "2            l1   {'C': 0.1, 'penalty': 'l1'}           0.943925   \n",
       "1            l2  {'C': 0.01, 'penalty': 'l2'}           0.925234   \n",
       "4            l1     {'C': 1, 'penalty': 'l1'}           0.943925   \n",
       "\n",
       "   split1_test_score  split2_test_score  split3_test_score  mean_test_score  \\\n",
       "3           0.971963           1.000000           1.000000         0.981308   \n",
       "5           0.971963           0.990566           0.981132         0.974233   \n",
       "2           0.971963           0.981132           0.990566         0.971896   \n",
       "1           0.971963           0.990566           0.981132         0.967224   \n",
       "4           0.962617           0.981132           0.981132         0.967202   \n",
       "\n",
       "   std_test_score  rank_test_score  \n",
       "3        0.019825                1  \n",
       "5        0.013774                2  \n",
       "2        0.017437                3  \n",
       "1        0.025119                4  \n",
       "4        0.015419                5  "
      ]
     },
     "execution_count": 38,
     "metadata": {},
     "output_type": "execute_result"
    }
   ],
   "source": [
    "import pandas as pd\n",
    "result = pd.DataFrame(gs.cv_results_)\n",
    "result.sort_values('rank_test_score').head()"
   ]
  },
  {
   "cell_type": "code",
   "execution_count": null,
   "id": "419fbec0",
   "metadata": {},
   "outputs": [],
   "source": []
  },
  {
   "cell_type": "code",
   "execution_count": null,
   "id": "af51b0f7",
   "metadata": {},
   "outputs": [],
   "source": []
  },
  {
   "cell_type": "markdown",
   "id": "444168a9",
   "metadata": {},
   "source": [
    "# 최적화 (Optimize)\n",
    "- 모델이 예측한 결과와 정답간의 차이(오차)를 가장 적게 만드는 Parameter를 찾는 과정을 최적화라고 한다.\n",
    "- 모델의 예측값과 실제 값의 차이를 계산하는 함수를 만들고 그 값이 최소가 되는 지점을 찾는 작업을 한다."
   ]
  },
  {
   "cell_type": "markdown",
   "id": "14db786b",
   "metadata": {},
   "source": [
    "## 최적화 문제\n",
    "- 함수 f(w) 의 값을 최소화(또는 최대화) 하는 변수 w(파라미터)를 찾는 것.\n",
    "$$\n",
    "w_{i} = \\arg \\min_w f(w) \n",
    "$$\n",
    "\n",
    "- **f(w) : 손실함수**\n",
    "- 손실함수에 어떤 w(파라미터)를 전달했을 때 손실이 가장 적을까를 찾는 과정 => `최적화`"
   ]
  },
  {
   "cell_type": "markdown",
   "id": "75bb4412",
   "metadata": {},
   "source": [
    "### 손실함수(Loss Function), 비용함수(Cost Function), 목적함수(Object Function), 오차함수(Error Function)\n",
    "- <u>모델의 예측한 값과 실제값 사이이 얼마나 차이나는지(오차)를 계산하는 함수</u>로 모델이 학습할 때 사용된다.\n",
    "- 이 함수의 반환값(Loss)을 최소화 하는 파라미터을 찾는 것이 최적화의 목적이다.\n",
    "- 해결하려는 문제에 맞춰 Loss 함수를 정의한다.\n",
    "    - Classification(분류)의 경우 `cross entropy` 를 사용한다.\n",
    "    - Regression(회귀)의 경우 `MSE(Mean Squared Error)` 를 사용한다.\n",
    "    \n",
    "## 최적화 문제를 해결하는 방법\n",
    "- Loss 함수 최적화 함수를 찾는다.\n",
    "    - Loss를 최소화하는 weight들을 찾는 함수(공식)을 찾는다.\n",
    "    - Feature와 sample 수가 많아 질 수록 계산량이 급증한다.\n",
    "    - 최적화 함수가 없는 Loss함수도 있다.\n",
    "    - '한번에 찾으려고 하는 느낌'<br><br>\n",
    "- **경사하강법 (Gradient Descent)** => 딥러닝과 연결..\n",
    "    - 값을 조금씩 조금씩 조정해나가면서 **최솟값**을 찾는다."
   ]
  },
  {
   "cell_type": "markdown",
   "id": "5ab06797",
   "metadata": {},
   "source": [
    "## 경사하강법 (Gradient Descent)⭐🚀\n",
    "- 다양한 종류의 문제에서 최적의 해법을 찾을 수 있는 **일반적인 최적화 알고리즘**\n",
    "- 손실함수를 최소화하는 파라미터를 찾기위해 반복해서 조정해 나간다. \n",
    "    - 파라미터 벡터 $W$에 대해 손실함수의 현재 gradient(경사,기울기)를 계산한다.\n",
    "    - gradient가 감소하는 방향으로 벡터 $W$를 조정한다.\n",
    "    - gradient가 0이 될때 까지 반복한다.\n",
    "- gradient가 양수이면 loss와 weight가 비례관계란 의미이므로 loss를 더 작게 하려면 weight가 작아져야 한다.    \n",
    "- gradient가 음수이면 loss와 weight가 반비례관계란 의미이므로 loss를 더 작게 하려면 weight가 커져야 한다.\n",
    "\n",
    "- 로지스틱 회귀의 최적화 방식.\n",
    "<br>\n",
    "\n",
    "> 1. 초기 파라미터 설정\n",
    "2. 방향 찾기\n",
    "3. 하나씩 대입하면서 값 비교\n",
    "4. `2.`, `3.` 반복 하면서 최솟값 찾기"
   ]
  },
  {
   "cell_type": "markdown",
   "id": "96be9a6e",
   "metadata": {},
   "source": [
    "### 파라미터 조정\n",
    "\n",
    "$$\n",
    "W_{new} = W-\\alpha\\frac{\\partial}{\\partial {W}}cost(W)\n",
    "$$\n",
    "\n",
    "\n",
    "<center>$W$: 파라미터<br>$\\alpha$:학습률<br></center> \n",
    "\n",
    "- 학습률 (Learning rate)\n",
    "    - 기울기에 따라 이동할 step의 크기. 경사하강법 알고리즘에서 지정해야하는 하이퍼 파라미터이다.\n",
    "    - `학습률을 너무 작게 잡으면` <u>최소값에 수렴하기 위해 많은 반복을 진행해야해 시간이 오래걸린다.</u>\n",
    "    - `학습률을 너무 크게 잡으면` 왔다 갔다 하다가 오히려 <u>더 큰 값으로 발산하여 최소값에 수렴하지 못하게 된다.</u>"
   ]
  },
  {
   "cell_type": "code",
   "execution_count": null,
   "id": "e3648b54",
   "metadata": {},
   "outputs": [],
   "source": []
  },
  {
   "cell_type": "code",
   "execution_count": null,
   "id": "d2d3b902",
   "metadata": {},
   "outputs": [],
   "source": []
  },
  {
   "cell_type": "code",
   "execution_count": null,
   "id": "aae9574f",
   "metadata": {},
   "outputs": [],
   "source": []
  },
  {
   "cell_type": "code",
   "execution_count": null,
   "id": "78e21bf3",
   "metadata": {},
   "outputs": [],
   "source": []
  }
 ],
 "metadata": {
  "kernelspec": {
   "display_name": "Python 3 (ipykernel)",
   "language": "python",
   "name": "python3"
  },
  "language_info": {
   "codemirror_mode": {
    "name": "ipython",
    "version": 3
   },
   "file_extension": ".py",
   "mimetype": "text/x-python",
   "name": "python",
   "nbconvert_exporter": "python",
   "pygments_lexer": "ipython3",
   "version": "3.10.11"
  }
 },
 "nbformat": 4,
 "nbformat_minor": 5
}
