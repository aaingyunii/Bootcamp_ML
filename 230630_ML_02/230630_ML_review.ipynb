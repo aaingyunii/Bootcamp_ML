{
 "cells": [
  {
   "cell_type": "code",
   "execution_count": 4,
   "id": "28c6cef8",
   "metadata": {},
   "outputs": [],
   "source": [
    "from sklearn.datasets import load_iris\n",
    "from sklearn.model_selection import train_test_split\n",
    "from sklearn.tree import DecisionTreeClassifier\n",
    "from sklearn.metrics import accuracy_score\n",
    "\n",
    "import numpy as np\n",
    "import pandas as pd"
   ]
  },
  {
   "cell_type": "markdown",
   "id": "5147a135",
   "metadata": {},
   "source": [
    "# 데이터셋 분할 방법 - Hold out\n",
    "### Iris 데이터셋 사용"
   ]
  },
  {
   "cell_type": "code",
   "execution_count": 16,
   "id": "a7c7e745",
   "metadata": {
    "scrolled": true
   },
   "outputs": [
    {
     "data": {
      "text/plain": [
       "((150, 4), (150,))"
      ]
     },
     "execution_count": 16,
     "metadata": {},
     "output_type": "execute_result"
    }
   ],
   "source": [
    "X, y = load_iris(return_X_y=True) # return_X_y = True : input(X), output(y) 값만 조회해서 가져온다\n",
    "X.shape, y.shape"
   ]
  },
  {
   "cell_type": "code",
   "execution_count": 17,
   "id": "7ebc55ca",
   "metadata": {},
   "outputs": [
    {
     "data": {
      "text/plain": [
       "((120, 4), (30, 4), (120,), (30,))"
      ]
     },
     "execution_count": 17,
     "metadata": {},
     "output_type": "execute_result"
    }
   ],
   "source": [
    "X_tmp, X_test, y_tmp, y_test = train_test_split(X, # input (feature, X)\n",
    "                                                y, # output (target, label, y)\n",
    "                                                test_size=0.2, # (test set의 크기),  \n",
    "                                                               # 0~1 실수 : 비율 / 정수 : 개수로 나뉨\n",
    "                                                               # default 0.25\n",
    "                                                stratify=y, # 분류에서 필수, 원본 데이터셋의 클래스 별 비율을 \n",
    "                                                                               # 유지하면서 나눠지도록 처리.\n",
    "                                                \n",
    "                                                random_state=0 # random.seed 값\n",
    "                                               )\n",
    "\n",
    "X_tmp.shape, X_test.shape, y_tmp.shape, y_test.shape"
   ]
  },
  {
   "cell_type": "code",
   "execution_count": 18,
   "id": "ac7f6129",
   "metadata": {},
   "outputs": [],
   "source": [
    "X_train, X_val, y_train, y_val = train_test_split(X_tmp, y_tmp, test_size=0.2, \n",
    "                                                  stratify=y_tmp, random_state=0)"
   ]
  },
  {
   "cell_type": "code",
   "execution_count": 19,
   "id": "1031e505",
   "metadata": {},
   "outputs": [
    {
     "data": {
      "text/plain": [
       "((96, 4), (24, 4), (30, 4))"
      ]
     },
     "execution_count": 19,
     "metadata": {},
     "output_type": "execute_result"
    }
   ],
   "source": [
    "X_train.shape, X_val.shape, X_test.shape"
   ]
  },
  {
   "cell_type": "code",
   "execution_count": 20,
   "id": "2304d3da",
   "metadata": {},
   "outputs": [],
   "source": [
    "# max_depth = 1\n",
    "# max_depth = 2\n",
    "# max_depth = 3\n",
    "max_depth = 5\n",
    "\n",
    "# max_depth를 바꿔가면서 하나씩 하면서 확인\n",
    "\n",
    "# max_depth : DecisionTree 의 하이퍼 파라미터 중 하나. 사람이 직접 설정한 파라미터 값.\n",
    "tree = DecisionTreeClassifier(max_depth=max_depth, random_state=0)\n",
    "tree.fit(X_train, y_train) # train set 으로 학습\n",
    "\n",
    "# 검증\n",
    "## 1. 추정\n",
    "pred_train = tree.predict(X_train) # train set feature를 입력해서 추정\n",
    "pred_val = tree.predict(X_val) # validation set feature를 입력해서 추정\n",
    "\n",
    "## 2. 검증\n",
    "train_acc = accuracy_score(y_train, pred_train) # (정답, 모델 추정값)\n",
    "val_acc = accuracy_score(y_val, pred_val) # (정답, 모델 추정값)"
   ]
  },
  {
   "cell_type": "markdown",
   "id": "0d61d246",
   "metadata": {},
   "source": [
    "🚩 `max_depth`가 1인 상황 : `train set`의 정확도가 0.6666666, 학습했던 데이터셋에 대한 정확도를 검증했는데도 성능이 너무 안나온 상황 -> 애초에 모델에 학습 데이터가 잘 학습되지 않았다는 의미"
   ]
  },
  {
   "cell_type": "code",
   "execution_count": 21,
   "id": "a03c7660",
   "metadata": {},
   "outputs": [
    {
     "name": "stdout",
     "output_type": "stream",
     "text": [
      "max_depth: 5\n",
      "train set 정확도: 1.0\n",
      "val set 정확도: 1.0\n"
     ]
    }
   ],
   "source": [
    "print(f\"max_depth: {max_depth}\")\n",
    "print(\"train set 정확도:\", train_acc)\n",
    "print(\"val set 정확도:\", val_acc)"
   ]
  },
  {
   "cell_type": "code",
   "execution_count": 22,
   "id": "575d96fe",
   "metadata": {},
   "outputs": [
    {
     "name": "stdout",
     "output_type": "stream",
     "text": [
      "test set 정확도: 0.9666666666666667\n"
     ]
    }
   ],
   "source": [
    "pred_test = tree.predict(X_test)\n",
    "test_acc = accuracy_score(y_test, pred_test)\n",
    "print('test set 정확도:', test_acc)"
   ]
  },
  {
   "cell_type": "markdown",
   "id": "8640a8aa",
   "metadata": {},
   "source": [
    "# 데이터셋 분할 방법 - K-Fold Cross Validation\n",
    "\n",
    "### Boston housing 데이터셋 사용"
   ]
  },
  {
   "cell_type": "code",
   "execution_count": 23,
   "id": "a530d756",
   "metadata": {},
   "outputs": [
    {
     "data": {
      "text/plain": [
       "(506, 14)"
      ]
     },
     "execution_count": 23,
     "metadata": {},
     "output_type": "execute_result"
    }
   ],
   "source": [
    "# from sklearn.datasets import boston\n",
    "import pandas as pd\n",
    "\n",
    "boston = pd.read_csv('data/boston_hosing.csv')\n",
    "boston.shape"
   ]
  },
  {
   "cell_type": "code",
   "execution_count": 24,
   "id": "2e16838d",
   "metadata": {},
   "outputs": [],
   "source": [
    "# MEDV -> 해당 데이터뎃의 target(label, y)\n",
    "# 데이터셋에서 X,y를 분리 후 ndarray로 변환\n",
    "X = boston.drop(columns='MEDV').values\n",
    "y = boston['MEDV'].values\n",
    "\n",
    "# Series and DataFrame '.values' => 'ndarray' 타입으로 반환"
   ]
  },
  {
   "cell_type": "code",
   "execution_count": 25,
   "id": "5ced7285",
   "metadata": {},
   "outputs": [
    {
     "data": {
      "text/plain": [
       "((506, 13), (506,))"
      ]
     },
     "execution_count": 25,
     "metadata": {},
     "output_type": "execute_result"
    }
   ],
   "source": [
    "X.shape, y.shape"
   ]
  },
  {
   "cell_type": "markdown",
   "id": "3d0f767c",
   "metadata": {},
   "source": [
    "## KFold"
   ]
  },
  {
   "cell_type": "code",
   "execution_count": 26,
   "id": "ce439628",
   "metadata": {},
   "outputs": [],
   "source": [
    "##################### KFold를 이용해 Boston housing dataset 교차검증\n",
    "from sklearn.model_selection import KFold\n",
    "from sklearn.tree import DecisionTreeRegressor\n",
    "from sklearn.metrics import mean_squared_error\n",
    "import numpy as np\n",
    "\n",
    "# fold(iteration) 별 검증 결과를 담을 리스트\n",
    "mse_list = []\n",
    "\n",
    "#1. KFold 객체 생성 - 폴드개수 (K) 를 설정\n",
    "kfold = KFold(n_splits=5)\n",
    "\n",
    "#2. split을 이용해서 generator 생성\n",
    "index_gen = kfold.split(X) # 5분할한 데이터셋의 인덱스\n",
    "\n",
    "#3. 반복문 -> 각 folder별 iteration을 처리.\n",
    "tree = DecisionTreeRegressor(random_state=0) # DecisionTree 회귀 모델\n",
    "\n",
    "for train_index, val_index in index_gen:\n",
    "    # train/val dataset을 생성\n",
    "    X_train, y_train = X[train_index], y[train_index]\n",
    "    X_val, y_val = X[val_index], y[val_index]\n",
    "    \n",
    "    # 모델 학습\n",
    "    tree.fit(X_train, y_train)\n",
    "    \n",
    "    # 검증\n",
    "    ## 추론\n",
    "    pred_val = tree.predict(X_val)\n",
    "    \n",
    "    ## 검증 - mse\n",
    "    mse = mean_squared_error(y_val, pred_val) # (정답, 모델 추정값)\n",
    "# mean_squared_error\n",
    "    mse_list.append(mse)"
   ]
  },
  {
   "cell_type": "code",
   "execution_count": 27,
   "id": "748bbe68",
   "metadata": {},
   "outputs": [
    {
     "data": {
      "text/plain": [
       "[11.887843137254906,\n",
       " 34.88990099009901,\n",
       " 28.17247524752476,\n",
       " 54.44178217821782,\n",
       " 52.59029702970297]"
      ]
     },
     "execution_count": 27,
     "metadata": {},
     "output_type": "execute_result"
    }
   ],
   "source": [
    "mse_list"
   ]
  },
  {
   "cell_type": "code",
   "execution_count": 28,
   "id": "e4ba8d22",
   "metadata": {},
   "outputs": [
    {
     "data": {
      "text/plain": [
       "(36.39645971655989, 6.032947846331832)"
      ]
     },
     "execution_count": 28,
     "metadata": {},
     "output_type": "execute_result"
    }
   ],
   "source": [
    "np.mean(mse_list), np.sqrt(np.mean(mse_list)) # sqrt : 제곱근"
   ]
  },
  {
   "cell_type": "markdown",
   "id": "ccca2282",
   "metadata": {},
   "source": [
    "🚩 회귀 문제는 무한대의 값들을 추정하는 과정이기 때문에 완전히 그 값을 맞춘다는 것은 불가능하다.\n",
    "따라서 이러한 회귀 문제의 모델 성능 평가는 '얼마나 많이 맞추는가' 가 아니라 **'얼마나 적게 틀렸는가'** 를 \n",
    "중점적으로 봐야한다. \n",
    "따라서 사용되는 메서드도 분류문제의 `accuracy_score`가 아닌 **`mean_squared_error`** 를 사용해서 모델 성능 평가를 한다."
   ]
  },
  {
   "cell_type": "code",
   "execution_count": 29,
   "id": "3b0f8603",
   "metadata": {},
   "outputs": [
    {
     "data": {
      "text/html": [
       "<style>#sk-container-id-1 {color: black;background-color: white;}#sk-container-id-1 pre{padding: 0;}#sk-container-id-1 div.sk-toggleable {background-color: white;}#sk-container-id-1 label.sk-toggleable__label {cursor: pointer;display: block;width: 100%;margin-bottom: 0;padding: 0.3em;box-sizing: border-box;text-align: center;}#sk-container-id-1 label.sk-toggleable__label-arrow:before {content: \"▸\";float: left;margin-right: 0.25em;color: #696969;}#sk-container-id-1 label.sk-toggleable__label-arrow:hover:before {color: black;}#sk-container-id-1 div.sk-estimator:hover label.sk-toggleable__label-arrow:before {color: black;}#sk-container-id-1 div.sk-toggleable__content {max-height: 0;max-width: 0;overflow: hidden;text-align: left;background-color: #f0f8ff;}#sk-container-id-1 div.sk-toggleable__content pre {margin: 0.2em;color: black;border-radius: 0.25em;background-color: #f0f8ff;}#sk-container-id-1 input.sk-toggleable__control:checked~div.sk-toggleable__content {max-height: 200px;max-width: 100%;overflow: auto;}#sk-container-id-1 input.sk-toggleable__control:checked~label.sk-toggleable__label-arrow:before {content: \"▾\";}#sk-container-id-1 div.sk-estimator input.sk-toggleable__control:checked~label.sk-toggleable__label {background-color: #d4ebff;}#sk-container-id-1 div.sk-label input.sk-toggleable__control:checked~label.sk-toggleable__label {background-color: #d4ebff;}#sk-container-id-1 input.sk-hidden--visually {border: 0;clip: rect(1px 1px 1px 1px);clip: rect(1px, 1px, 1px, 1px);height: 1px;margin: -1px;overflow: hidden;padding: 0;position: absolute;width: 1px;}#sk-container-id-1 div.sk-estimator {font-family: monospace;background-color: #f0f8ff;border: 1px dotted black;border-radius: 0.25em;box-sizing: border-box;margin-bottom: 0.5em;}#sk-container-id-1 div.sk-estimator:hover {background-color: #d4ebff;}#sk-container-id-1 div.sk-parallel-item::after {content: \"\";width: 100%;border-bottom: 1px solid gray;flex-grow: 1;}#sk-container-id-1 div.sk-label:hover label.sk-toggleable__label {background-color: #d4ebff;}#sk-container-id-1 div.sk-serial::before {content: \"\";position: absolute;border-left: 1px solid gray;box-sizing: border-box;top: 0;bottom: 0;left: 50%;z-index: 0;}#sk-container-id-1 div.sk-serial {display: flex;flex-direction: column;align-items: center;background-color: white;padding-right: 0.2em;padding-left: 0.2em;position: relative;}#sk-container-id-1 div.sk-item {position: relative;z-index: 1;}#sk-container-id-1 div.sk-parallel {display: flex;align-items: stretch;justify-content: center;background-color: white;position: relative;}#sk-container-id-1 div.sk-item::before, #sk-container-id-1 div.sk-parallel-item::before {content: \"\";position: absolute;border-left: 1px solid gray;box-sizing: border-box;top: 0;bottom: 0;left: 50%;z-index: -1;}#sk-container-id-1 div.sk-parallel-item {display: flex;flex-direction: column;z-index: 1;position: relative;background-color: white;}#sk-container-id-1 div.sk-parallel-item:first-child::after {align-self: flex-end;width: 50%;}#sk-container-id-1 div.sk-parallel-item:last-child::after {align-self: flex-start;width: 50%;}#sk-container-id-1 div.sk-parallel-item:only-child::after {width: 0;}#sk-container-id-1 div.sk-dashed-wrapped {border: 1px dashed gray;margin: 0 0.4em 0.5em 0.4em;box-sizing: border-box;padding-bottom: 0.4em;background-color: white;}#sk-container-id-1 div.sk-label label {font-family: monospace;font-weight: bold;display: inline-block;line-height: 1.2em;}#sk-container-id-1 div.sk-label-container {text-align: center;}#sk-container-id-1 div.sk-container {/* jupyter's `normalize.less` sets `[hidden] { display: none; }` but bootstrap.min.css set `[hidden] { display: none !important; }` so we also need the `!important` here to be able to override the default hidden behavior on the sphinx rendered scikit-learn.org. See: https://github.com/scikit-learn/scikit-learn/issues/21755 */display: inline-block !important;position: relative;}#sk-container-id-1 div.sk-text-repr-fallback {display: none;}</style><div id=\"sk-container-id-1\" class=\"sk-top-container\"><div class=\"sk-text-repr-fallback\"><pre>DecisionTreeRegressor(random_state=0)</pre><b>In a Jupyter environment, please rerun this cell to show the HTML representation or trust the notebook. <br />On GitHub, the HTML representation is unable to render, please try loading this page with nbviewer.org.</b></div><div class=\"sk-container\" hidden><div class=\"sk-item\"><div class=\"sk-estimator sk-toggleable\"><input class=\"sk-toggleable__control sk-hidden--visually\" id=\"sk-estimator-id-1\" type=\"checkbox\" checked><label for=\"sk-estimator-id-1\" class=\"sk-toggleable__label sk-toggleable__label-arrow\">DecisionTreeRegressor</label><div class=\"sk-toggleable__content\"><pre>DecisionTreeRegressor(random_state=0)</pre></div></div></div></div></div>"
      ],
      "text/plain": [
       "DecisionTreeRegressor(random_state=0)"
      ]
     },
     "execution_count": 29,
     "metadata": {},
     "output_type": "execute_result"
    }
   ],
   "source": [
    "# 서비스하기 위한 모델은 전체 데이터셋을 가지고 다시 학습시킨다.\n",
    "tree.fit(X, y)"
   ]
  },
  {
   "cell_type": "markdown",
   "id": "0a4220ca",
   "metadata": {},
   "source": [
    "## StratifiedKFold"
   ]
  },
  {
   "cell_type": "code",
   "execution_count": 30,
   "id": "a171ed86",
   "metadata": {},
   "outputs": [],
   "source": [
    "from sklearn.datasets import load_iris\n",
    "from sklearn.model_selection import StratifiedKFold, KFold\n",
    "from sklearn.tree import DecisionTreeClassifier\n",
    "from sklearn.metrics import accuracy_score"
   ]
  },
  {
   "cell_type": "code",
   "execution_count": 31,
   "id": "44584796",
   "metadata": {},
   "outputs": [
    {
     "data": {
      "text/plain": [
       "((150, 4), (150,))"
      ]
     },
     "execution_count": 31,
     "metadata": {},
     "output_type": "execute_result"
    }
   ],
   "source": [
    "X, y = load_iris(return_X_y=True)\n",
    "X.shape, y.shape"
   ]
  },
  {
   "cell_type": "code",
   "execution_count": 32,
   "id": "bda63600",
   "metadata": {},
   "outputs": [],
   "source": [
    "############# iris dataset 교차 검증\n",
    "\n",
    "# iteration별 평가결과(정확도)를 저장할 리스트\n",
    "acc_list = []\n",
    "\n",
    "#1. KFold 객체 생성 - 폴드개수 (K) 를 설정\n",
    "s_kfold = StratifiedKFold(n_splits=4)\n",
    "\n",
    "#2. split을 이용해서 generator 생성\n",
    "index_gen_iris = s_kfold.split(X, y)\n",
    "\n",
    "#3. 반복문 -> 각 folder별 iteration을 처리.\n",
    "tree_clf = DecisionTreeClassifier(random_state=0) # 분류 문제이기 때문에 Classifier, 학습할 모델\n",
    "\n",
    "for train_idx, val_idx in index_gen_iris:\n",
    "    # train/val dataset을 생성\n",
    "    X_train, y_train = X[train_idx], y[train_idx]\n",
    "    X_val, y_val = X[val_idx], y[val_idx]\n",
    "    \n",
    "    #  모델학습\n",
    "    tree_clf.fit(X_train, y_train)\n",
    "    \n",
    "    # 검증\n",
    "    ## 추론\n",
    "    pred = tree_clf.predict(X_val)\n",
    "    acc = accuracy_score(y_val, pred)\n",
    "    \n",
    "    ## 검증\n",
    "    acc_list.append(acc)"
   ]
  },
  {
   "cell_type": "code",
   "execution_count": 33,
   "id": "9d445d81",
   "metadata": {},
   "outputs": [
    {
     "data": {
      "text/plain": [
       "[0.9736842105263158, 0.9473684210526315, 0.9459459459459459, 1.0]"
      ]
     },
     "execution_count": 33,
     "metadata": {},
     "output_type": "execute_result"
    }
   ],
   "source": [
    "acc_list"
   ]
  },
  {
   "cell_type": "code",
   "execution_count": 34,
   "id": "d19664cb",
   "metadata": {},
   "outputs": [
    {
     "data": {
      "text/plain": [
       "0.9667496443812233"
      ]
     },
     "execution_count": 34,
     "metadata": {},
     "output_type": "execute_result"
    }
   ],
   "source": [
    "np.mean(acc_list)"
   ]
  },
  {
   "cell_type": "code",
   "execution_count": 38,
   "id": "ee3d1954",
   "metadata": {
    "scrolled": true
   },
   "outputs": [
    {
     "data": {
      "text/html": [
       "<style>#sk-container-id-3 {color: black;background-color: white;}#sk-container-id-3 pre{padding: 0;}#sk-container-id-3 div.sk-toggleable {background-color: white;}#sk-container-id-3 label.sk-toggleable__label {cursor: pointer;display: block;width: 100%;margin-bottom: 0;padding: 0.3em;box-sizing: border-box;text-align: center;}#sk-container-id-3 label.sk-toggleable__label-arrow:before {content: \"▸\";float: left;margin-right: 0.25em;color: #696969;}#sk-container-id-3 label.sk-toggleable__label-arrow:hover:before {color: black;}#sk-container-id-3 div.sk-estimator:hover label.sk-toggleable__label-arrow:before {color: black;}#sk-container-id-3 div.sk-toggleable__content {max-height: 0;max-width: 0;overflow: hidden;text-align: left;background-color: #f0f8ff;}#sk-container-id-3 div.sk-toggleable__content pre {margin: 0.2em;color: black;border-radius: 0.25em;background-color: #f0f8ff;}#sk-container-id-3 input.sk-toggleable__control:checked~div.sk-toggleable__content {max-height: 200px;max-width: 100%;overflow: auto;}#sk-container-id-3 input.sk-toggleable__control:checked~label.sk-toggleable__label-arrow:before {content: \"▾\";}#sk-container-id-3 div.sk-estimator input.sk-toggleable__control:checked~label.sk-toggleable__label {background-color: #d4ebff;}#sk-container-id-3 div.sk-label input.sk-toggleable__control:checked~label.sk-toggleable__label {background-color: #d4ebff;}#sk-container-id-3 input.sk-hidden--visually {border: 0;clip: rect(1px 1px 1px 1px);clip: rect(1px, 1px, 1px, 1px);height: 1px;margin: -1px;overflow: hidden;padding: 0;position: absolute;width: 1px;}#sk-container-id-3 div.sk-estimator {font-family: monospace;background-color: #f0f8ff;border: 1px dotted black;border-radius: 0.25em;box-sizing: border-box;margin-bottom: 0.5em;}#sk-container-id-3 div.sk-estimator:hover {background-color: #d4ebff;}#sk-container-id-3 div.sk-parallel-item::after {content: \"\";width: 100%;border-bottom: 1px solid gray;flex-grow: 1;}#sk-container-id-3 div.sk-label:hover label.sk-toggleable__label {background-color: #d4ebff;}#sk-container-id-3 div.sk-serial::before {content: \"\";position: absolute;border-left: 1px solid gray;box-sizing: border-box;top: 0;bottom: 0;left: 50%;z-index: 0;}#sk-container-id-3 div.sk-serial {display: flex;flex-direction: column;align-items: center;background-color: white;padding-right: 0.2em;padding-left: 0.2em;position: relative;}#sk-container-id-3 div.sk-item {position: relative;z-index: 1;}#sk-container-id-3 div.sk-parallel {display: flex;align-items: stretch;justify-content: center;background-color: white;position: relative;}#sk-container-id-3 div.sk-item::before, #sk-container-id-3 div.sk-parallel-item::before {content: \"\";position: absolute;border-left: 1px solid gray;box-sizing: border-box;top: 0;bottom: 0;left: 50%;z-index: -1;}#sk-container-id-3 div.sk-parallel-item {display: flex;flex-direction: column;z-index: 1;position: relative;background-color: white;}#sk-container-id-3 div.sk-parallel-item:first-child::after {align-self: flex-end;width: 50%;}#sk-container-id-3 div.sk-parallel-item:last-child::after {align-self: flex-start;width: 50%;}#sk-container-id-3 div.sk-parallel-item:only-child::after {width: 0;}#sk-container-id-3 div.sk-dashed-wrapped {border: 1px dashed gray;margin: 0 0.4em 0.5em 0.4em;box-sizing: border-box;padding-bottom: 0.4em;background-color: white;}#sk-container-id-3 div.sk-label label {font-family: monospace;font-weight: bold;display: inline-block;line-height: 1.2em;}#sk-container-id-3 div.sk-label-container {text-align: center;}#sk-container-id-3 div.sk-container {/* jupyter's `normalize.less` sets `[hidden] { display: none; }` but bootstrap.min.css set `[hidden] { display: none !important; }` so we also need the `!important` here to be able to override the default hidden behavior on the sphinx rendered scikit-learn.org. See: https://github.com/scikit-learn/scikit-learn/issues/21755 */display: inline-block !important;position: relative;}#sk-container-id-3 div.sk-text-repr-fallback {display: none;}</style><div id=\"sk-container-id-3\" class=\"sk-top-container\"><div class=\"sk-text-repr-fallback\"><pre>DecisionTreeClassifier(random_state=0)</pre><b>In a Jupyter environment, please rerun this cell to show the HTML representation or trust the notebook. <br />On GitHub, the HTML representation is unable to render, please try loading this page with nbviewer.org.</b></div><div class=\"sk-container\" hidden><div class=\"sk-item\"><div class=\"sk-estimator sk-toggleable\"><input class=\"sk-toggleable__control sk-hidden--visually\" id=\"sk-estimator-id-3\" type=\"checkbox\" checked><label for=\"sk-estimator-id-3\" class=\"sk-toggleable__label sk-toggleable__label-arrow\">DecisionTreeClassifier</label><div class=\"sk-toggleable__content\"><pre>DecisionTreeClassifier(random_state=0)</pre></div></div></div></div></div>"
      ],
      "text/plain": [
       "DecisionTreeClassifier(random_state=0)"
      ]
     },
     "execution_count": 38,
     "metadata": {},
     "output_type": "execute_result"
    }
   ],
   "source": [
    "# 서비스하기 위한 모델은 전체 데이터셋을 가지고 다시 학습시킨다.\n",
    "tree_clf.fit(X, y)"
   ]
  },
  {
   "cell_type": "markdown",
   "id": "bc8f1b70",
   "metadata": {},
   "source": [
    "Why? **분류 문제**에서 `StratifiedKFold`를 사용하고<br> `KFold`는 사용하지 않는 지 위에서 한 데이터셋 그대로 `KFold`로 해보자"
   ]
  },
  {
   "cell_type": "code",
   "execution_count": 41,
   "id": "27c0f826",
   "metadata": {},
   "outputs": [
    {
     "name": "stdout",
     "output_type": "stream",
     "text": [
      "y[i1] : [1 1 1 1 1 1 1 1 1 1 1 1 1 1 1 1 1 1 1 1 1 1 1 1 1 1 1 1 1 1 1 1 1 1 1 1 1\n",
      " 1 1 1 1 1 1 1 1 1 1 1 1 1 2 2 2 2 2 2 2 2 2 2 2 2 2 2 2 2 2 2 2 2 2 2 2 2\n",
      " 2 2 2 2 2 2 2 2 2 2 2 2 2 2 2 2 2 2 2 2 2 2 2 2 2 2]\n",
      "y[i2] : [0 0 0 0 0 0 0 0 0 0 0 0 0 0 0 0 0 0 0 0 0 0 0 0 0 0 0 0 0 0 0 0 0 0 0 0 0\n",
      " 0 0 0 0 0 0 0 0 0 0 0 0 0]\n"
     ]
    }
   ],
   "source": [
    "# KFold 로 왜 이걸로 안하는 지 알아보자\n",
    "kf = KFold(n_splits=3)\n",
    "g = kf.split(X)\n",
    "i1, i2 = next(g)\n",
    "print(f\"y[i1] : {y[i1]}\")\n",
    "print(f\"y[i2] : {y[i2]}\")\n",
    "\n",
    "# train과 test data set 의 y 값이 극과 극으로 나누어져 있어 모델 성능 평가의 신뢰성이 없기 때문이다.\n",
    "# 위의 코드 대로 하면 y[i1] 은 1과 2로만 이루어져 있고, y[i2]는 0 으로만 이루어져 있기 때문에 \n",
    "# 학습한 모델을 평가하는데 의미가 없어졌습니다."
   ]
  },
  {
   "cell_type": "markdown",
   "id": "dae01d7a",
   "metadata": {},
   "source": [
    "> `train`과 `test data set` 의 `y` 값이 극과 극으로 나누어져 있어 모델 성능 평가의 신뢰성이 없기 때문이다.\n",
    "위의 코드 대로 하면 `y[i1]` 은 **1과 2로만** 이루어져 있고, `y[i2]`는 **0 으로만** 이루어져 있기 때문에 \n",
    "**학습한 모델을 평가하는데 의미가 없어졌습니다.**"
   ]
  },
  {
   "cell_type": "markdown",
   "id": "f3a4a176",
   "metadata": {},
   "source": [
    "# Cross Validation Utility 함수"
   ]
  },
  {
   "cell_type": "code",
   "execution_count": 42,
   "id": "cc1d4ff6",
   "metadata": {},
   "outputs": [],
   "source": [
    "# 보스톤데이터셋 - 회귀\n",
    "df = pd.read_csv('data/boston_hosing.csv')\n",
    "X_boston = df.drop(columns='MEDV').values\n",
    "y_boston = df['MEDV'].values\n",
    "\n",
    "# iris - 분류\n",
    "X_iris, y_iris = load_iris(return_X_y=True)"
   ]
  },
  {
   "cell_type": "code",
   "execution_count": 43,
   "id": "76b23c32",
   "metadata": {},
   "outputs": [],
   "source": [
    "from sklearn.model_selection import cross_val_score, cross_validate\n",
    "\n",
    "result_boston = cross_val_score(DecisionTreeRegressor(random_state=0, max_depth=3), # 학습 모델\n",
    "                                X=X_boston, # features, X, input\n",
    "                                y=y_boston, # label, target, y, output\n",
    "                                \n",
    "                                scoring=\"neg_mean_squared_error\", # 평가지표. -mse\n",
    "                                \n",
    "                                cv= 4, # fold 개수 == KFold(n_splits=4)\n",
    "                                n_jobs= -1 # 병렬처리할 때 사용할 cpu의 프로세서 개수. default == 1\n",
    "                                        # -1 : 모든 프로세서 다 사용한다.\n",
    ")\n",
    "\n",
    "# 위에 만든 cv 함수를 cross_val_score() 메서드가 대신 한다."
   ]
  },
  {
   "cell_type": "code",
   "execution_count": 44,
   "id": "e991593b",
   "metadata": {},
   "outputs": [
    {
     "name": "stdout",
     "output_type": "stream",
     "text": [
      "[-19.8971664  -23.5349172  -51.40872605 -31.38321557]\n",
      "[19.8971664  23.5349172  51.40872605 31.38321557]\n",
      "31.556006304145065\n"
     ]
    }
   ],
   "source": [
    "print(result_boston)\n",
    "print(-result_boston)\n",
    "print(-np.mean(result_boston))"
   ]
  },
  {
   "cell_type": "code",
   "execution_count": 45,
   "id": "5453d47f",
   "metadata": {},
   "outputs": [],
   "source": [
    "result_iris = cross_val_score(DecisionTreeClassifier(max_depth=3, random_state=0), \n",
    "                              X=X_iris, \n",
    "                              y=y_iris, \n",
    "                              scoring=\"accuracy\", \n",
    "                              cv=4,\n",
    "                              n_jobs=-1)"
   ]
  },
  {
   "cell_type": "code",
   "execution_count": 46,
   "id": "091b74b5",
   "metadata": {},
   "outputs": [
    {
     "name": "stdout",
     "output_type": "stream",
     "text": [
      "[0.97368421 0.94736842 0.94594595 0.97297297]\n",
      "0.9599928876244666\n"
     ]
    }
   ],
   "source": [
    "print(result_iris)\n",
    "print(np.mean(result_iris))"
   ]
  },
  {
   "cell_type": "code",
   "execution_count": 47,
   "id": "599fd066",
   "metadata": {},
   "outputs": [],
   "source": [
    "# 여러 평가지표를 확인\n",
    "result = cross_validate(DecisionTreeRegressor(random_state=0, max_depth=3), \n",
    "                        X=X_boston, \n",
    "                        y=y_boston,\n",
    "                        scoring=['r2', 'neg_mean_squared_error'], \n",
    "                        cv=4, \n",
    "                        n_jobs=-1                        \n",
    "                       )"
   ]
  },
  {
   "cell_type": "code",
   "execution_count": 48,
   "id": "377c4df6",
   "metadata": {},
   "outputs": [
    {
     "data": {
      "text/plain": [
       "{'fit_time': array([0.00199461, 0.00398898, 0.00199461, 0.00199437]),\n",
       " 'score_time': array([0.00099659, 0.00199509, 0.00099659, 0.        ]),\n",
       " 'test_r2': array([ 0.3224128 ,  0.76128228,  0.4275699 , -0.08225262]),\n",
       " 'test_neg_mean_squared_error': array([-19.8971664 , -23.5349172 , -51.40872605, -31.38321557])}"
      ]
     },
     "execution_count": 48,
     "metadata": {},
     "output_type": "execute_result"
    }
   ],
   "source": [
    "result # 딕셔너리"
   ]
  },
  {
   "cell_type": "code",
   "execution_count": 49,
   "id": "6b07bbc5",
   "metadata": {},
   "outputs": [
    {
     "data": {
      "text/plain": [
       "array([-19.8971664 , -23.5349172 , -51.40872605, -31.38321557])"
      ]
     },
     "execution_count": 49,
     "metadata": {},
     "output_type": "execute_result"
    }
   ],
   "source": [
    "result['test_neg_mean_squared_error']"
   ]
  },
  {
   "cell_type": "markdown",
   "id": "06cadc36",
   "metadata": {},
   "source": [
    "### `neg_mean_squared_error` :\n",
    "- neg -> negative : `neg_mean_squared_error` 의 값을 **'음수'**로 반환하겠다.\n",
    "> `mean_squared_error`는 오차의 값이기 때문에 절대값이 작을수록 좋다.\n",
    "정확한 비교를 위해 '음수'로 반환하여 절대값의 크기가 작을수록\n",
    "좋은 평가임을 수학적으로 표현하기 위해서 **\"neg_\"** 를 부여하였다."
   ]
  },
  {
   "cell_type": "markdown",
   "id": "7d548cef",
   "metadata": {},
   "source": [
    "# 데이터 전처리\n",
    "## 결측치 처리"
   ]
  },
  {
   "cell_type": "code",
   "execution_count": 50,
   "id": "6d3d7ace",
   "metadata": {},
   "outputs": [
    {
     "data": {
      "text/html": [
       "<div>\n",
       "<style scoped>\n",
       "    .dataframe tbody tr th:only-of-type {\n",
       "        vertical-align: middle;\n",
       "    }\n",
       "\n",
       "    .dataframe tbody tr th {\n",
       "        vertical-align: top;\n",
       "    }\n",
       "\n",
       "    .dataframe thead th {\n",
       "        text-align: right;\n",
       "    }\n",
       "</style>\n",
       "<table border=\"1\" class=\"dataframe\">\n",
       "  <thead>\n",
       "    <tr style=\"text-align: right;\">\n",
       "      <th></th>\n",
       "      <th>col1</th>\n",
       "      <th>col2</th>\n",
       "      <th>col3</th>\n",
       "    </tr>\n",
       "  </thead>\n",
       "  <tbody>\n",
       "    <tr>\n",
       "      <th>0</th>\n",
       "      <td>10.0</td>\n",
       "      <td>A</td>\n",
       "      <td>10.5</td>\n",
       "    </tr>\n",
       "    <tr>\n",
       "      <th>1</th>\n",
       "      <td>NaN</td>\n",
       "      <td>A</td>\n",
       "      <td>2.8</td>\n",
       "    </tr>\n",
       "    <tr>\n",
       "      <th>2</th>\n",
       "      <td>30.0</td>\n",
       "      <td>C</td>\n",
       "      <td>NaN</td>\n",
       "    </tr>\n",
       "    <tr>\n",
       "      <th>3</th>\n",
       "      <td>40.0</td>\n",
       "      <td>NaN</td>\n",
       "      <td>9.7</td>\n",
       "    </tr>\n",
       "  </tbody>\n",
       "</table>\n",
       "</div>"
      ],
      "text/plain": [
       "   col1 col2  col3\n",
       "0  10.0    A  10.5\n",
       "1   NaN    A   2.8\n",
       "2  30.0    C   NaN\n",
       "3  40.0  NaN   9.7"
      ]
     },
     "execution_count": 50,
     "metadata": {},
     "output_type": "execute_result"
    }
   ],
   "source": [
    "import pandas as pd\n",
    "import numpy as np\n",
    "\n",
    "# 결측치 처리 실행 예시 데이터\n",
    "data = {\n",
    "    \"col1\":[10, np.nan, 30, 40], # 결측치는 float 타입이므로, 다른 정수들도 float 타입으로 입력된다.\n",
    "    \"col2\":['A', 'A', 'C', np.nan],\n",
    "    \"col3\":[10.5, 2.8, np.nan, 9.7]\n",
    "}\n",
    "df = pd.DataFrame(data)\n",
    "df"
   ]
  },
  {
   "cell_type": "code",
   "execution_count": 51,
   "id": "7c3515b8",
   "metadata": {},
   "outputs": [
    {
     "data": {
      "text/plain": [
       "col1    1\n",
       "col2    1\n",
       "col3    1\n",
       "dtype: int64"
      ]
     },
     "execution_count": 51,
     "metadata": {},
     "output_type": "execute_result"
    }
   ],
   "source": [
    "df.isna().sum()"
   ]
  },
  {
   "cell_type": "code",
   "execution_count": 52,
   "id": "da28038a",
   "metadata": {},
   "outputs": [
    {
     "data": {
      "text/plain": [
       "0    0\n",
       "1    1\n",
       "2    1\n",
       "3    1\n",
       "dtype: int64"
      ]
     },
     "execution_count": 52,
     "metadata": {},
     "output_type": "execute_result"
    }
   ],
   "source": [
    "df.isna().sum(axis=1)"
   ]
  },
  {
   "cell_type": "code",
   "execution_count": 53,
   "id": "e5b27e42",
   "metadata": {},
   "outputs": [
    {
     "data": {
      "text/html": [
       "<div>\n",
       "<style scoped>\n",
       "    .dataframe tbody tr th:only-of-type {\n",
       "        vertical-align: middle;\n",
       "    }\n",
       "\n",
       "    .dataframe tbody tr th {\n",
       "        vertical-align: top;\n",
       "    }\n",
       "\n",
       "    .dataframe thead th {\n",
       "        text-align: right;\n",
       "    }\n",
       "</style>\n",
       "<table border=\"1\" class=\"dataframe\">\n",
       "  <thead>\n",
       "    <tr style=\"text-align: right;\">\n",
       "      <th></th>\n",
       "      <th>col1</th>\n",
       "      <th>col2</th>\n",
       "      <th>col3</th>\n",
       "    </tr>\n",
       "  </thead>\n",
       "  <tbody>\n",
       "    <tr>\n",
       "      <th>0</th>\n",
       "      <td>10.0</td>\n",
       "      <td>A</td>\n",
       "      <td>10.5</td>\n",
       "    </tr>\n",
       "  </tbody>\n",
       "</table>\n",
       "</div>"
      ],
      "text/plain": [
       "   col1 col2  col3\n",
       "0  10.0    A  10.5"
      ]
     },
     "execution_count": 53,
     "metadata": {},
     "output_type": "execute_result"
    }
   ],
   "source": [
    "df.dropna()"
   ]
  },
  {
   "cell_type": "code",
   "execution_count": 54,
   "id": "b295ad22",
   "metadata": {},
   "outputs": [
    {
     "data": {
      "text/html": [
       "<div>\n",
       "<style scoped>\n",
       "    .dataframe tbody tr th:only-of-type {\n",
       "        vertical-align: middle;\n",
       "    }\n",
       "\n",
       "    .dataframe tbody tr th {\n",
       "        vertical-align: top;\n",
       "    }\n",
       "\n",
       "    .dataframe thead th {\n",
       "        text-align: right;\n",
       "    }\n",
       "</style>\n",
       "<table border=\"1\" class=\"dataframe\">\n",
       "  <thead>\n",
       "    <tr style=\"text-align: right;\">\n",
       "      <th></th>\n",
       "      <th>col1</th>\n",
       "      <th>col2</th>\n",
       "      <th>col3</th>\n",
       "    </tr>\n",
       "  </thead>\n",
       "  <tbody>\n",
       "    <tr>\n",
       "      <th>0</th>\n",
       "      <td>10.0</td>\n",
       "      <td>A</td>\n",
       "      <td>10.5</td>\n",
       "    </tr>\n",
       "    <tr>\n",
       "      <th>3</th>\n",
       "      <td>40.0</td>\n",
       "      <td>NaN</td>\n",
       "      <td>9.7</td>\n",
       "    </tr>\n",
       "  </tbody>\n",
       "</table>\n",
       "</div>"
      ],
      "text/plain": [
       "   col1 col2  col3\n",
       "0  10.0    A  10.5\n",
       "3  40.0  NaN   9.7"
      ]
     },
     "execution_count": 54,
     "metadata": {},
     "output_type": "execute_result"
    }
   ],
   "source": [
    "df.dropna(subset=['col1', 'col3'])"
   ]
  },
  {
   "cell_type": "code",
   "execution_count": 57,
   "id": "ce51c8ce",
   "metadata": {},
   "outputs": [
    {
     "data": {
      "text/html": [
       "<div>\n",
       "<style scoped>\n",
       "    .dataframe tbody tr th:only-of-type {\n",
       "        vertical-align: middle;\n",
       "    }\n",
       "\n",
       "    .dataframe tbody tr th {\n",
       "        vertical-align: top;\n",
       "    }\n",
       "\n",
       "    .dataframe thead th {\n",
       "        text-align: right;\n",
       "    }\n",
       "</style>\n",
       "<table border=\"1\" class=\"dataframe\">\n",
       "  <thead>\n",
       "    <tr style=\"text-align: right;\">\n",
       "      <th></th>\n",
       "    </tr>\n",
       "  </thead>\n",
       "  <tbody>\n",
       "    <tr>\n",
       "      <th>0</th>\n",
       "    </tr>\n",
       "    <tr>\n",
       "      <th>1</th>\n",
       "    </tr>\n",
       "    <tr>\n",
       "      <th>2</th>\n",
       "    </tr>\n",
       "    <tr>\n",
       "      <th>3</th>\n",
       "    </tr>\n",
       "  </tbody>\n",
       "</table>\n",
       "</div>"
      ],
      "text/plain": [
       "Empty DataFrame\n",
       "Columns: []\n",
       "Index: [0, 1, 2, 3]"
      ]
     },
     "execution_count": 57,
     "metadata": {},
     "output_type": "execute_result"
    }
   ],
   "source": [
    "df.dropna(axis=1) # 결측치가 존재하는 열 삭제, index만 살아남은 모습"
   ]
  },
  {
   "cell_type": "code",
   "execution_count": 58,
   "id": "50fb08d2",
   "metadata": {},
   "outputs": [
    {
     "data": {
      "text/html": [
       "<div>\n",
       "<style scoped>\n",
       "    .dataframe tbody tr th:only-of-type {\n",
       "        vertical-align: middle;\n",
       "    }\n",
       "\n",
       "    .dataframe tbody tr th {\n",
       "        vertical-align: top;\n",
       "    }\n",
       "\n",
       "    .dataframe thead th {\n",
       "        text-align: right;\n",
       "    }\n",
       "</style>\n",
       "<table border=\"1\" class=\"dataframe\">\n",
       "  <thead>\n",
       "    <tr style=\"text-align: right;\">\n",
       "      <th></th>\n",
       "      <th>col2</th>\n",
       "    </tr>\n",
       "  </thead>\n",
       "  <tbody>\n",
       "    <tr>\n",
       "      <th>0</th>\n",
       "      <td>A</td>\n",
       "    </tr>\n",
       "    <tr>\n",
       "      <th>1</th>\n",
       "      <td>A</td>\n",
       "    </tr>\n",
       "    <tr>\n",
       "      <th>2</th>\n",
       "      <td>C</td>\n",
       "    </tr>\n",
       "    <tr>\n",
       "      <th>3</th>\n",
       "      <td>NaN</td>\n",
       "    </tr>\n",
       "  </tbody>\n",
       "</table>\n",
       "</div>"
      ],
      "text/plain": [
       "  col2\n",
       "0    A\n",
       "1    A\n",
       "2    C\n",
       "3  NaN"
      ]
     },
     "execution_count": 58,
     "metadata": {},
     "output_type": "execute_result"
    }
   ],
   "source": [
    "df.dropna(axis=1, subset=[1, 2])"
   ]
  },
  {
   "cell_type": "code",
   "execution_count": 59,
   "id": "7ef014af",
   "metadata": {},
   "outputs": [
    {
     "data": {
      "text/html": [
       "<div>\n",
       "<style scoped>\n",
       "    .dataframe tbody tr th:only-of-type {\n",
       "        vertical-align: middle;\n",
       "    }\n",
       "\n",
       "    .dataframe tbody tr th {\n",
       "        vertical-align: top;\n",
       "    }\n",
       "\n",
       "    .dataframe thead th {\n",
       "        text-align: right;\n",
       "    }\n",
       "</style>\n",
       "<table border=\"1\" class=\"dataframe\">\n",
       "  <thead>\n",
       "    <tr style=\"text-align: right;\">\n",
       "      <th></th>\n",
       "      <th>col1</th>\n",
       "      <th>col2</th>\n",
       "      <th>col3</th>\n",
       "    </tr>\n",
       "  </thead>\n",
       "  <tbody>\n",
       "    <tr>\n",
       "      <th>0</th>\n",
       "      <td>10.0</td>\n",
       "      <td>A</td>\n",
       "      <td>10.5</td>\n",
       "    </tr>\n",
       "    <tr>\n",
       "      <th>1</th>\n",
       "      <td>10.0</td>\n",
       "      <td>A</td>\n",
       "      <td>2.8</td>\n",
       "    </tr>\n",
       "    <tr>\n",
       "      <th>2</th>\n",
       "      <td>30.0</td>\n",
       "      <td>C</td>\n",
       "      <td>10.0</td>\n",
       "    </tr>\n",
       "    <tr>\n",
       "      <th>3</th>\n",
       "      <td>40.0</td>\n",
       "      <td>10</td>\n",
       "      <td>9.7</td>\n",
       "    </tr>\n",
       "  </tbody>\n",
       "</table>\n",
       "</div>"
      ],
      "text/plain": [
       "   col1 col2  col3\n",
       "0  10.0    A  10.5\n",
       "1  10.0    A   2.8\n",
       "2  30.0    C  10.0\n",
       "3  40.0   10   9.7"
      ]
     },
     "execution_count": 59,
     "metadata": {},
     "output_type": "execute_result"
    }
   ],
   "source": [
    "#### 변경\n",
    "df.fillna(10)\n",
    "\n",
    "# 해당 컬럼의 다른 값들의 데이터 타입에 맞춰서 더 큰 개념의 데이터 타입으로 통일 시킨다."
   ]
  },
  {
   "cell_type": "code",
   "execution_count": 60,
   "id": "381a698b",
   "metadata": {},
   "outputs": [
    {
     "data": {
      "text/html": [
       "<div>\n",
       "<style scoped>\n",
       "    .dataframe tbody tr th:only-of-type {\n",
       "        vertical-align: middle;\n",
       "    }\n",
       "\n",
       "    .dataframe tbody tr th {\n",
       "        vertical-align: top;\n",
       "    }\n",
       "\n",
       "    .dataframe thead th {\n",
       "        text-align: right;\n",
       "    }\n",
       "</style>\n",
       "<table border=\"1\" class=\"dataframe\">\n",
       "  <thead>\n",
       "    <tr style=\"text-align: right;\">\n",
       "      <th></th>\n",
       "      <th>col1</th>\n",
       "      <th>col2</th>\n",
       "      <th>col3</th>\n",
       "    </tr>\n",
       "  </thead>\n",
       "  <tbody>\n",
       "    <tr>\n",
       "      <th>0</th>\n",
       "      <td>10.0</td>\n",
       "      <td>A</td>\n",
       "      <td>10.5</td>\n",
       "    </tr>\n",
       "    <tr>\n",
       "      <th>1</th>\n",
       "      <td>1000.0</td>\n",
       "      <td>A</td>\n",
       "      <td>2.8</td>\n",
       "    </tr>\n",
       "    <tr>\n",
       "      <th>2</th>\n",
       "      <td>30.0</td>\n",
       "      <td>C</td>\n",
       "      <td>NaN</td>\n",
       "    </tr>\n",
       "    <tr>\n",
       "      <th>3</th>\n",
       "      <td>40.0</td>\n",
       "      <td>가</td>\n",
       "      <td>9.7</td>\n",
       "    </tr>\n",
       "  </tbody>\n",
       "</table>\n",
       "</div>"
      ],
      "text/plain": [
       "     col1 col2  col3\n",
       "0    10.0    A  10.5\n",
       "1  1000.0    A   2.8\n",
       "2    30.0    C   NaN\n",
       "3    40.0    가   9.7"
      ]
     },
     "execution_count": 60,
     "metadata": {},
     "output_type": "execute_result"
    }
   ],
   "source": [
    "df.fillna({\n",
    "    \"col1\":1000,\n",
    "    \"col2\":\"가\"\n",
    "})"
   ]
  },
  {
   "cell_type": "code",
   "execution_count": 61,
   "id": "12774398",
   "metadata": {},
   "outputs": [
    {
     "data": {
      "text/plain": [
       "col1    30.0\n",
       "col3     9.7\n",
       "dtype: float64"
      ]
     },
     "execution_count": 61,
     "metadata": {},
     "output_type": "execute_result"
    }
   ],
   "source": [
    "df[['col1', 'col3']].median()"
   ]
  },
  {
   "cell_type": "code",
   "execution_count": 62,
   "id": "7fe32b4d",
   "metadata": {},
   "outputs": [
    {
     "data": {
      "text/plain": [
       "0    A\n",
       "Name: col2, dtype: object"
      ]
     },
     "execution_count": 62,
     "metadata": {},
     "output_type": "execute_result"
    }
   ],
   "source": [
    "df['col2'].mode() # 최빈값 -> A"
   ]
  },
  {
   "cell_type": "code",
   "execution_count": 63,
   "id": "ff7ee5d4",
   "metadata": {},
   "outputs": [
    {
     "data": {
      "text/plain": [
       "array([[10. , 10.5],\n",
       "       [30. ,  2.8],\n",
       "       [30. ,  9.7],\n",
       "       [40. ,  9.7]])"
      ]
     },
     "execution_count": 63,
     "metadata": {},
     "output_type": "execute_result"
    }
   ],
   "source": [
    "#### scikit-learn을 이용해서 결측치를 다른 값으로 대체하는 방법 ####\n",
    "from sklearn.impute import SimpleImputer\n",
    "imputer_con = SimpleImputer(strategy=\"median\")\n",
    "imputer_cate = SimpleImputer(strategy=\"most_frequent\")\n",
    "\n",
    "# 연속형\n",
    "# imputer_con.fit(df[['col1', 'col3']]) # 어떻게 바꿀지 학습 - 컬럼별로 중앙값 계산하는 과정\n",
    "# r1 = imputer_con.transform(df[['col1', 'col3']]) # 변경\n",
    "r1 = imputer_con.fit_transform(df[['col1', 'col3']]) # 위의 두 fit, transform 과정을 나누지 않고 한 번에 해결가능.\n",
    "r1"
   ]
  },
  {
   "cell_type": "code",
   "execution_count": 64,
   "id": "d13af9cc",
   "metadata": {},
   "outputs": [
    {
     "data": {
      "text/plain": [
       "array([['A'],\n",
       "       ['A'],\n",
       "       ['C'],\n",
       "       ['A']], dtype=object)"
      ]
     },
     "execution_count": 64,
     "metadata": {},
     "output_type": "execute_result"
    }
   ],
   "source": [
    "# 범주형\n",
    "# fit() : 학습, 최빈값 찾기 / transform() : 찾은 최빈값으로 결측치 대체\n",
    "r2 = imputer_cate.fit_transform(df[['col2']])\n",
    "r2"
   ]
  },
  {
   "cell_type": "code",
   "execution_count": 65,
   "id": "6f581a9c",
   "metadata": {},
   "outputs": [
    {
     "data": {
      "text/plain": [
       "array([[10.0, 10.5, 'A'],\n",
       "       [30.0, 2.8, 'A'],\n",
       "       [30.0, 9.7, 'C'],\n",
       "       [40.0, 9.7, 'A']], dtype=object)"
      ]
     },
     "execution_count": 65,
     "metadata": {},
     "output_type": "execute_result"
    }
   ],
   "source": [
    "# 연속형, 범주형으로 나눠서 결측치를 대체한 후\n",
    "# 결과를 다시 하나로 합치는 과정.\n",
    "result = np.concatenate([r1, r2], axis=1)\n",
    "result"
   ]
  }
 ],
 "metadata": {
  "kernelspec": {
   "display_name": "Python 3 (ipykernel)",
   "language": "python",
   "name": "python3"
  },
  "language_info": {
   "codemirror_mode": {
    "name": "ipython",
    "version": 3
   },
   "file_extension": ".py",
   "mimetype": "text/x-python",
   "name": "python",
   "nbconvert_exporter": "python",
   "pygments_lexer": "ipython3",
   "version": "3.10.11"
  }
 },
 "nbformat": 4,
 "nbformat_minor": 5
}
